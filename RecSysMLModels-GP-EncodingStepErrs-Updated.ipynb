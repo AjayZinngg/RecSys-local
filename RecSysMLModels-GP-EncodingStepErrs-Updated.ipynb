{
 "cells": [
  {
   "cell_type": "markdown",
   "id": "12d70e13",
   "metadata": {},
   "source": [
    "#### We'll will compare the following models for their accuracy and precision. \n",
    "\n",
    "1. Collaborative Filtering (Item-Based)\n",
    "2. Markov Chains\n",
    "3. Random Forest\n",
    "4. Gradient Boosting Machine\n",
    "5. Recurrent Neural Networks (RNN) - LSTM\n",
    "\n",
    "To get us started we will set up the preprocessing and helper functions that will be used by all models."
   ]
  },
  {
   "cell_type": "code",
   "execution_count": 3,
   "id": "fd41089e",
   "metadata": {},
   "outputs": [
    {
     "name": "stderr",
     "output_type": "stream",
     "text": [
      "2024-05-26 00:30:29.005665: I tensorflow/core/platform/cpu_feature_guard.cc:210] This TensorFlow binary is optimized to use available CPU instructions in performance-critical operations.\n",
      "To enable the following instructions: AVX2 FMA, in other operations, rebuild TensorFlow with the appropriate compiler flags.\n",
      "2024-05-26 00:30:30.554236: W tensorflow/compiler/tf2tensorrt/utils/py_utils.cc:38] TF-TRT Warning: Could not find TensorRT\n"
     ]
    }
   ],
   "source": [
    "import dask.dataframe as dd\n",
    "import pandas as pd\n",
    "import numpy as np\n",
    "import pickle \n",
    "from sklearn.preprocessing import LabelEncoder\n",
    "from keras.preprocessing.sequence import pad_sequences\n",
    "from tqdm import tqdm\n",
    "from sklearn.metrics import accuracy_score, precision_score\n",
    "from sklearn.ensemble import RandomForestClassifier, GradientBoostingClassifier\n",
    "from keras.models import Sequential\n",
    "from keras.layers import Embedding, LSTM, Dense\n",
    "from dask import delayed, compute\n",
    "from sklearn.metrics.pairwise import cosine_similarity\n",
    "from sklearn.decomposition import TruncatedSVD\n",
    "from dask.diagnostics import ProgressBar\n",
    "\n",
    "\n"
   ]
  },
  {
   "cell_type": "code",
   "execution_count": 4,
   "id": "c660807b",
   "metadata": {},
   "outputs": [],
   "source": [
    "# Define paths for checkpoints\n",
    "train_data_path = 'train_data.pkl'\n",
    "test_data_path = 'test_data.pkl'\n",
    "processed_data_path = 'processed_data.pkl'\n",
    "models_predictions_path = 'models_predictions.pkl'"
   ]
  },
  {
   "cell_type": "code",
   "execution_count": 5,
   "id": "7745af7e",
   "metadata": {},
   "outputs": [],
   "source": [
    "# Function to save data\n",
    "def save_data(data, path):\n",
    "    with open(path, 'wb') as f:\n",
    "        pickle.dump(data, f)\n",
    "\n",
    "# Function to load data\n",
    "def load_data(path):\n",
    "    with open(path, 'rb') as f:\n",
    "        return pickle.load(f)"
   ]
  },
  {
   "cell_type": "code",
   "execution_count": 6,
   "id": "e9dc5b31",
   "metadata": {},
   "outputs": [
    {
     "name": "stdout",
     "output_type": "stream",
     "text": [
      "Preprocessed data not found. Running preprocessing steps...\n",
      "[                                        ] | 0% Completed | 208.67 us"
     ]
    },
    {
     "name": "stderr",
     "output_type": "stream",
     "text": [
      "/tmp/ipykernel_35675/2084622981.py:44: UserWarning: `meta` is not specified, inferred from partial data. Please provide `meta` if the result is unexpected.\n",
      "  Before: .apply(func)\n",
      "  After:  .apply(func, meta={'x': 'f8', 'y': 'f8'}) for dataframe result\n",
      "  or:     .apply(func, meta=('x', 'f8'))            for series result\n",
      "  train_sequences = train_data.groupby('utrip_id')['city_country'].apply(list).compute().tolist()\n"
     ]
    },
    {
     "name": "stdout",
     "output_type": "stream",
     "text": [
      "[########################################] | 100% Completed | 7.44 sms\n",
      "[                                        ] | 0% Completed | 308.59 us"
     ]
    },
    {
     "name": "stderr",
     "output_type": "stream",
     "text": [
      "/tmp/ipykernel_35675/2084622981.py:45: UserWarning: `meta` is not specified, inferred from partial data. Please provide `meta` if the result is unexpected.\n",
      "  Before: .apply(func)\n",
      "  After:  .apply(func, meta={'x': 'f8', 'y': 'f8'}) for dataframe result\n",
      "  or:     .apply(func, meta=('x', 'f8'))            for series result\n",
      "  test_sequences = test_data.groupby('utrip_id')['city_country'].apply(list).compute().tolist()\n"
     ]
    },
    {
     "name": "stdout",
     "output_type": "stream",
     "text": [
      "[########################################] | 100% Completed | 2.35 sms\n"
     ]
    }
   ],
   "source": [
    "# Check if preprocessed data exists\n",
    "try:\n",
    "    train_data, test_data, train_sequences, test_sequences, encoder, X_train, y_train, X_test, y_test = load_data(processed_data_path)\n",
    "    print(\"Loaded preprocessed data from checkpoint.\")\n",
    "except FileNotFoundError:\n",
    "    print(\"Preprocessed data not found. Running preprocessing steps...\")\n",
    "\n",
    "    # Load the datasets using Dask\n",
    "    train_data = dd.read_csv('train_set.csv')\n",
    "    test_data = dd.read_csv('test_set.csv')\n",
    "\n",
    "    # Sample a subset of the data (optional, adjust frac as needed)\n",
    "    fraction_of_data_to_use = 0.1  # Adjust this value to suit your needs\n",
    "    train_data = train_data.sample(frac=fraction_of_data_to_use)\n",
    "    test_data = test_data.sample(frac=fraction_of_data_to_use)\n",
    "\n",
    "    # Ensure 'checkin' is in string format\n",
    "    train_data['checkin'] = train_data['checkin'].astype(str)\n",
    "    test_data['checkin'] = test_data['checkin'].astype(str)\n",
    "\n",
    "    # Create a new column that combines 'utrip_id' and 'checkin'\n",
    "    train_data['utrip_id_checkin'] = train_data['utrip_id'].astype(str) + '_' + train_data['checkin']\n",
    "    test_data['utrip_id_checkin'] = test_data['utrip_id'].astype(str) + '_' + test_data['checkin']\n",
    "\n",
    "    # Set the new column as index (if necessary for your logic)\n",
    "    # Note: This may not be necessary for the overall logic.\n",
    "    # train_data = train_data.set_index('utrip_id_checkin')\n",
    "    # test_data = test_data.set_index('utrip_id_checkin')\n",
    "\n",
    "    # Create a city_country column\n",
    "    train_data['city_country'] = train_data['city_id'].astype(str) + '_' + train_data['hotel_country'].astype(str)\n",
    "    test_data['city_country'] = test_data['city_id'].astype(str) + '_' + test_data['hotel_country'].astype(str)\n",
    "\n",
    "    # Handle missing values\n",
    "    train_data['city_country'] = train_data['city_country'].fillna('missing')\n",
    "    test_data['city_country'] = test_data['city_country'].fillna('missing')\n",
    "\n",
    "    # Convert city_country to category type for efficient encoding\n",
    "    train_data = train_data.categorize(columns=['city_country'])\n",
    "    test_data = test_data.categorize(columns=['city_country'])\n",
    "\n",
    "    # Group by utrip_id to create sequences\n",
    "    with ProgressBar():\n",
    "        train_sequences = train_data.groupby('utrip_id')['city_country'].apply(list).compute().tolist()\n",
    "        test_sequences = test_data.groupby('utrip_id')['city_country'].apply(list).compute().tolist()\n",
    "\n",
    "    # Encode city_country strings as integers\n",
    "    all_sequences = train_sequences + test_sequences\n",
    "    all_cities_countries = [city_country for seq in all_sequences for city_country in seq]\n",
    "    encoder = LabelEncoder()\n",
    "    encoder.fit(all_cities_countries)\n",
    "\n",
    "    encoded_train_sequences = [encoder.transform(seq).tolist() for seq in train_sequences]\n",
    "    encoded_test_sequences = [encoder.transform(seq).tolist() for seq in test_sequences]\n",
    "\n",
    "    # Prepare data for training models\n",
    "    def prepare_data(sequences, sequence_length=None):\n",
    "        if sequence_length is None:\n",
    "            sequence_length = max(len(seq) for seq in sequences)\n",
    "        X, y = [], []\n",
    "        for seq in tqdm(sequences, desc=\"Preparing data\"):\n",
    "            for i in range(1, len(seq)):\n",
    "                X.append(seq[:i])\n",
    "                y.append(seq[i])\n",
    "        X = pad_sequences(X, maxlen=sequence_length, padding='pre')\n",
    "        y = np.array(y)\n",
    "        return X, y\n",
    "\n",
    "    X_train, y_train = prepare_data(encoded_train_sequences)\n",
    "    X_test, y_test = prepare_data(encoded_test_sequences, sequence_length=X_train.shape[1])\n",
    "\n",
    "    # Save preprocessed data to checkpoint\n",
    "    save_data((train_data, test_data, train_sequences, test_sequences, encoder, X_train, y_train, X_test, y_test), processed_data_path)\n",
    "    print(\"Saved preprocessed data to checkpoint.\")\n",
    "\n",
    "    # Print shapes to verify the data preparation\n",
    "    print(f\"X_train shape: {X_train.shape}\")\n",
    "    print(f\"y_train shape: {y_train.shape}\")\n",
    "    print(f\"X_test shape: {X_test.shape}\")\n",
    "    print(f\"y_test shape: {y_test.shape}\")"
   ]
  },
  {
   "cell_type": "code",
   "execution_count": null,
   "id": "57608e64",
   "metadata": {},
   "outputs": [
    {
     "name": "stdout",
     "output_type": "stream",
     "text": [
      "First 5 rows of X_train:\n",
      "[[    0     0     0     0     0     0     0 14852]\n",
      " [    0     0     0     0     0     0 14852 16088]\n",
      " [    0     0     0     0     0     0     0 11497]\n",
      " [    0     0     0     0     0     0 11497 11184]\n",
      " [    0     0     0     0     0     0     0  4523]]\n",
      "\n",
      "First 5 elements of y_train:\n",
      "[16088 14852 11184  1718  4611]\n",
      "\n",
      "First 5 rows of X_train (as DataFrame):\n",
      "   0  1  2  3  4  5      6      7\n",
      "0  0  0  0  0  0  0      0  14852\n",
      "1  0  0  0  0  0  0  14852  16088\n",
      "2  0  0  0  0  0  0      0  11497\n",
      "3  0  0  0  0  0  0  11497  11184\n",
      "4  0  0  0  0  0  0      0   4523\n",
      "\n",
      "First 5 elements of y_train (as DataFrame):\n",
      "0    16088\n",
      "1    14852\n",
      "2    11184\n",
      "3     1718\n",
      "4     4611\n",
      "Name: Target, dtype: int64\n",
      "\n",
      "First 5 rows of X_test (as DataFrame):\n",
      "   0  1  2  3  4  5     6      7\n",
      "0  0  0  0  0  0  0     0   2630\n",
      "1  0  0  0  0  0  0  2630  13409\n",
      "2  0  0  0  0  0  0     0      0\n",
      "3  0  0  0  0  0  0     0      0\n",
      "4  0  0  0  0  0  0     0   2443\n",
      "\n",
      "First 5 elements of y_test (as DataFrame):\n",
      "0    13409\n",
      "1    16056\n",
      "2     4219\n",
      "3     4917\n",
      "4    12237\n",
      "Name: Target, dtype: int64\n"
     ]
    }
   ],
   "source": [
    "# Print the first 5 rows of X_train and y_train\n",
    "print(\"First 5 rows of X_train:\")\n",
    "print(X_train[:5])\n",
    "\n",
    "print(\"\\nFirst 5 elements of y_train:\")\n",
    "print(y_train[:5])\n",
    "\n",
    "# Convert to Dask DataFrame for better readability\n",
    "X_train_dd = dd.from_pandas(pd.DataFrame(X_train), npartitions=5)\n",
    "y_train_dd = dd.from_pandas(pd.Series(y_train, name='Target'), npartitions=5)\n",
    "\n",
    "X_test_dd = dd.from_pandas(pd.DataFrame(X_test), npartitions=5)\n",
    "y_test_dd = dd.from_pandas(pd.Series(y_test, name='Target'), npartitions=5)\n",
    "\n",
    "# Display the first 5 rows\n",
    "print(\"\\nFirst 5 rows of X_train (as DataFrame):\")\n",
    "print(X_train_dd.head())\n",
    "\n",
    "print(\"\\nFirst 5 elements of y_train (as DataFrame):\")\n",
    "print(y_train_dd.head())\n",
    "\n",
    "print(\"\\nFirst 5 rows of X_test (as DataFrame):\")\n",
    "print(X_test_dd.head())\n",
    "\n",
    "print(\"\\nFirst 5 elements of y_test (as DataFrame):\")\n",
    "print(y_test_dd.head())"
   ]
  },
  {
   "cell_type": "code",
   "execution_count": null,
   "id": "5b03823d",
   "metadata": {},
   "outputs": [
    {
     "name": "stdout",
     "output_type": "stream",
     "text": [
      "Unique city_country values: 17196\n"
     ]
    }
   ],
   "source": [
    "unique_city_country = set(city_country for seq in all_sequences for city_country in seq)\n",
    "print(\"Unique city_country values:\", len(unique_city_country))"
   ]
  },
  {
   "cell_type": "markdown",
   "id": "78dd1082",
   "metadata": {},
   "source": [
    "### Collaborative Filtering (Item-Based)"
   ]
  },
  {
   "cell_type": "code",
   "execution_count": null,
   "id": "00dddb85",
   "metadata": {},
   "outputs": [
    {
     "ename": "NameError",
     "evalue": "name 'np' is not defined",
     "output_type": "error",
     "traceback": [
      "\u001b[0;31m---------------------------------------------------------------------------\u001b[0m",
      "\u001b[0;31mNameError\u001b[0m                                 Traceback (most recent call last)",
      "Cell \u001b[0;32mIn[2], line 3\u001b[0m\n\u001b[1;32m      1\u001b[0m \u001b[38;5;66;03m# Collaborative Filtering (Item-Based)\u001b[39;00m\n\u001b[1;32m      2\u001b[0m \u001b[38;5;66;03m# Create a co-occurrence matrix\u001b[39;00m\n\u001b[0;32m----> 3\u001b[0m item_cooccurrence_matrix \u001b[38;5;241m=\u001b[39m \u001b[43mnp\u001b[49m\u001b[38;5;241m.\u001b[39mzeros((\u001b[38;5;28mlen\u001b[39m(encoder\u001b[38;5;241m.\u001b[39mclasses_), \u001b[38;5;28mlen\u001b[39m(encoder\u001b[38;5;241m.\u001b[39mclasses_)))\n\u001b[1;32m      5\u001b[0m \u001b[38;5;28;01mfor\u001b[39;00m seq \u001b[38;5;129;01min\u001b[39;00m encoded_train_sequences:\n\u001b[1;32m      6\u001b[0m     \u001b[38;5;28;01mfor\u001b[39;00m i \u001b[38;5;129;01min\u001b[39;00m \u001b[38;5;28mrange\u001b[39m(\u001b[38;5;28mlen\u001b[39m(seq)):\n",
      "\u001b[0;31mNameError\u001b[0m: name 'np' is not defined"
     ]
    }
   ],
   "source": [
    "# Collaborative Filtering (Item-Based)\n",
    "# Create a co-occurrence matrix\n",
    "item_cooccurrence_matrix = np.zeros((len(encoder.classes_), len(encoder.classes_)))\n",
    "\n",
    "for seq in encoded_train_sequences:\n",
    "    for i in range(len(seq)):\n",
    "        for j in range(i + 1, len(seq)):\n",
    "            item_cooccurrence_matrix[seq[i], seq[j]] += 1\n",
    "            item_cooccurrence_matrix[seq[j], seq[i]] += 1\n",
    "\n",
    "# Use TruncatedSVD for dimensionality reduction\n",
    "embedding_dim = 50\n",
    "svd = TruncatedSVD(n_components=embedding_dim)\n",
    "item_embeddings = svd.fit_transform(item_cooccurrence_matrix)\n",
    "\n",
    "# Calculate cosine similarity matrix for embeddings\n",
    "item_sim_matrix = cosine_similarity(item_embeddings)\n",
    "\n",
    "def collaborative_filtering_predict(current_place):\n",
    "    if current_place in encoder.classes_:\n",
    "        current_idx = encoder.transform([current_place])[0]\n",
    "        similarity_scores = item_sim_matrix[current_idx]\n",
    "        most_similar_idx = similarity_scores.argsort()[-2]\n",
    "        return encoder.inverse_transform([most_similar_idx])[0]\n",
    "    else:\n",
    "        return None\n",
    "\n",
    "# Collaborative Filtering Predictions\n",
    "collab_preds = [collaborative_filtering_predict(encoder.inverse_transform([seq[-1]])[0]) for seq in encoded_test_sequences]\n",
    "\n",
    "print(\"Collaborative Filtering Complete\")\n",
    "# Print the first 5 collaborative filtering predictions\n",
    "\n",
    "print(\"First 5 collaborative filtering predictions:\")\n",
    "print(collab_preds[:5])"
   ]
  },
  {
   "cell_type": "markdown",
   "id": "ee2d20d0",
   "metadata": {},
   "source": [
    "### Markov Chains"
   ]
  },
  {
   "cell_type": "code",
   "execution_count": null,
   "id": "f3c7026a",
   "metadata": {},
   "outputs": [
    {
     "name": "stdout",
     "output_type": "stream",
     "text": [
      "Markov Complete\n",
      "First 5 Markov chain predictions:\n",
      "['5325_Cobra Island', 'unknown', '23921_Cobra Island', '26235_Alvonia', '17087_Glubbdubdrib']\n"
     ]
    }
   ],
   "source": [
    "# Markov Chains\n",
    "# Create transition pairs from the city_country chains\n",
    "transitions = []\n",
    "\n",
    "for chain in encoded_train_sequences:\n",
    "    for i in range(len(chain) - 1):\n",
    "        transitions.append((chain[i], chain[i + 1]))\n",
    "\n",
    "# Create a DataFrame for transitions\n",
    "transitions_df = pd.DataFrame(transitions, columns=['current_place', 'next_place'])\n",
    "\n",
    "# Calculate transition probabilities\n",
    "transition_counts = transitions_df.groupby('current_place')['next_place'].value_counts(normalize=True).unstack(fill_value=0)\n",
    "\n",
    "# Function to predict the next place based on the current place\n",
    "def markov_chain_predict(current_place):\n",
    "    if current_place in transition_counts.index:\n",
    "        return transition_counts.loc[current_place].idxmax()\n",
    "    else:\n",
    "        return None\n",
    "\n",
    "# Generate predictions using the Markov chain model\n",
    "markov_preds = [markov_chain_predict(seq[-1]) for seq in encoded_test_sequences]\n",
    "\n",
    "# Convert predictions back to original city_country labels\n",
    "markov_preds = [encoder.inverse_transform([pred])[0] if pred is not None else 'unknown' for pred in markov_preds]\n",
    "\n",
    "print(\"Markov Complete\")\n",
    "\n",
    "# Print the first 5 Markov chain predictions\n",
    "print(\"First 5 Markov chain predictions:\")\n"
   ]
  },
  {
   "cell_type": "code",
   "execution_count": null,
   "id": "0c9f1056",
   "metadata": {},
   "outputs": [],
   "source": [
    "# Function to ensure that y_test and predictions have consistent lengths\n",
    "def filter_valid_predictions(y_true, y_pred):\n",
    "    y_true_filtered, y_pred_filtered = [], []\n",
    "    for true, pred in zip(y_true, y_pred):\n",
    "        if pred is not None:  # Filter out 'None' predictions\n",
    "            y_true_filtered.append(true)\n",
    "            y_pred_filtered.append(pred)\n",
    "    return y_true_filtered, y_pred_filtered\n",
    "\n",
    "\n",
    "# Function to evaluate models\n",
    "def evaluate_model(y_true, y_pred):\n",
    "    # Ensure y_pred contains only labels present in encoder.classes_\n",
    "    y_pred_mapped = []\n",
    "    for label in y_pred:\n",
    "        if label in encoder.classes_:\n",
    "            y_pred_mapped.append(label)\n",
    "        else:\n",
    "            # Handle previously unseen labels, e.g., by mapping to a default label\n",
    "            y_pred_mapped.append('unknown')  # Replace with appropriate handling\n",
    "\n",
    "    # Filter y_true and y_pred to only include valid pairs\n",
    "    y_true_filtered, y_pred_filtered = filter_valid_predictions(y_true, y_pred_mapped)\n",
    "\n",
    "    # Transform y_true and y_pred_filtered\n",
    "    y_true_encoded = encoder.transform(y_true_filtered)\n",
    "    y_pred_encoded = encoder.transform(y_pred_filtered)\n",
    "\n",
    "    accuracy = accuracy_score(y_true_encoded, y_pred_encoded)\n",
    "    precision = precision_score(y_true_encoded, y_pred_encoded, average='weighted', zero_division=1)\n",
    "    return accuracy, precision\n",
    "\n",
    "# Random Forest Model\n",
    "@delayed\n",
    "def train_rf(X_train, y_train, X_test):\n",
    "    rf_model = RandomForestClassifier(n_estimators=100, random_state=42)\n",
    "    rf_model.fit(X_train, y_train)\n",
    "    rf_preds = rf_model.predict(X_test)\n",
    "    rf_preds = encoder.inverse_transform(rf_preds)\n",
    "    return rf_preds\n",
    "\n",
    "# Gradient Boosting Model\n",
    "@delayed\n",
    "def train_gbm(X_train, y_train, X_test):\n",
    "    gbm_model = GradientBoostingClassifier(n_estimators=100, random_state=42)\n",
    "    gbm_model.fit(X_train, y_train)\n",
    "    gbm_preds = gbm_model.predict(X_test)\n",
    "    gbm_preds = encoder.inverse_transform(gbm_preds)\n",
    "    return gbm_preds\n",
    "\n",
    "# LSTM Model\n",
    "def train_lstm(X_train, y_train, X_test):\n",
    "    lstm_model = Sequential()\n",
    "    lstm_model.add(Embedding(input_dim=len(encoder.classes_), output_dim=50, input_length=X_train.shape[1]))\n",
    "    lstm_model.add(LSTM(100, return_sequences=False))\n",
    "    lstm_model.add(Dense(len(encoder.classes_), activation='softmax'))\n",
    "    lstm_model.compile(optimizer='adam', loss='sparse_categorical_crossentropy', metrics=['accuracy'])\n",
    "    lstm_model.fit(X_train, y_train, epochs=10, batch_size=64, validation_split=0.2)\n",
    "    \n",
    "    # Predict probabilities using softmax output\n",
    "    lstm_preds = lstm_model.predict(X_test)\n",
    "    \n",
    "    # Use np.argmax to get the index of the class with the highest probability\n",
    "    lstm_preds_idx = np.argmax(lstm_preds, axis=1)\n",
    "    \n",
    "    # Convert the predicted indices back to original labels\n",
    "    lstm_preds_labels = encoder.inverse_transform(lstm_preds_idx)\n",
    "    \n",
    "    return lstm_preds_labels"
   ]
  },
  {
   "cell_type": "code",
   "execution_count": null,
   "id": "3b1ad8c0",
   "metadata": {},
   "outputs": [
    {
     "name": "stdout",
     "output_type": "stream",
     "text": [
      "Epoch 1/10\n"
     ]
    },
    {
     "name": "stderr",
     "output_type": "stream",
     "text": [
      "/home/ajay/Documents/projects/RecSys-local/.venv/lib/python3.10/site-packages/keras/src/layers/core/embedding.py:90: UserWarning: Argument `input_length` is deprecated. Just remove it.\n",
      "  warnings.warn(\n",
      "2024-05-26 00:18:29.411464: I external/local_xla/xla/stream_executor/cuda/cuda_executor.cc:998] successful NUMA node read from SysFS had negative value (-1), but there must be at least one NUMA node, so returning NUMA node zero. See more at https://github.com/torvalds/linux/blob/v6.0/Documentation/ABI/testing/sysfs-bus-pci#L344-L355\n",
      "2024-05-26 00:18:29.606420: W tensorflow/core/common_runtime/gpu/gpu_device.cc:2251] Cannot dlopen some GPU libraries. Please make sure the missing libraries mentioned above are installed properly if you would like to use GPU. Follow the guide at https://www.tensorflow.org/install/gpu for how to download and setup the required libraries for your platform.\n",
      "Skipping registering GPU devices...\n"
     ]
    },
    {
     "name": "stdout",
     "output_type": "stream",
     "text": [
      "\u001b[1m314/314\u001b[0m \u001b[32m━━━━━━━━━━━━━━━━━━━━\u001b[0m\u001b[37m\u001b[0m \u001b[1m16s\u001b[0m 44ms/step - accuracy: 0.0085 - loss: 8.8288 - val_accuracy: 0.0094 - val_loss: 8.2178\n",
      "Epoch 2/10\n",
      "\u001b[1m314/314\u001b[0m \u001b[32m━━━━━━━━━━━━━━━━━━━━\u001b[0m\u001b[37m\u001b[0m \u001b[1m13s\u001b[0m 42ms/step - accuracy: 0.0079 - loss: 7.7582 - val_accuracy: 0.0100 - val_loss: 8.2739\n",
      "Epoch 3/10\n",
      "\u001b[1m314/314\u001b[0m \u001b[32m━━━━━━━━━━━━━━━━━━━━\u001b[0m\u001b[37m\u001b[0m \u001b[1m14s\u001b[0m 45ms/step - accuracy: 0.0075 - loss: 7.5849 - val_accuracy: 0.0166 - val_loss: 8.3873\n",
      "Epoch 4/10\n",
      "\u001b[1m314/314\u001b[0m \u001b[32m━━━━━━━━━━━━━━━━━━━━\u001b[0m\u001b[37m\u001b[0m \u001b[1m14s\u001b[0m 43ms/step - accuracy: 0.0129 - loss: 7.4662 - val_accuracy: 0.0158 - val_loss: 8.4638\n",
      "Epoch 5/10\n",
      "\u001b[1m314/314\u001b[0m \u001b[32m━━━━━━━━━━━━━━━━━━━━\u001b[0m\u001b[37m\u001b[0m \u001b[1m14s\u001b[0m 45ms/step - accuracy: 0.0168 - loss: 7.2872 - val_accuracy: 0.0170 - val_loss: 8.4665\n",
      "Epoch 6/10\n",
      "\u001b[1m314/314\u001b[0m \u001b[32m━━━━━━━━━━━━━━━━━━━━\u001b[0m\u001b[37m\u001b[0m \u001b[1m14s\u001b[0m 43ms/step - accuracy: 0.0204 - loss: 7.0905 - val_accuracy: 0.0343 - val_loss: 8.5325\n",
      "Epoch 7/10\n",
      "\u001b[1m314/314\u001b[0m \u001b[32m━━━━━━━━━━━━━━━━━━━━\u001b[0m\u001b[37m\u001b[0m \u001b[1m15s\u001b[0m 46ms/step - accuracy: 0.0263 - loss: 6.8958 - val_accuracy: 0.0333 - val_loss: 8.5137\n",
      "Epoch 8/10\n",
      "\u001b[1m314/314\u001b[0m \u001b[32m━━━━━━━━━━━━━━━━━━━━\u001b[0m\u001b[37m\u001b[0m \u001b[1m14s\u001b[0m 44ms/step - accuracy: 0.0343 - loss: 6.6967 - val_accuracy: 0.0351 - val_loss: 8.4694\n",
      "Epoch 9/10\n",
      "\u001b[1m314/314\u001b[0m \u001b[32m━━━━━━━━━━━━━━━━━━━━\u001b[0m\u001b[37m\u001b[0m \u001b[1m13s\u001b[0m 42ms/step - accuracy: 0.0350 - loss: 6.5740 - val_accuracy: 0.0437 - val_loss: 8.4748\n",
      "Epoch 10/10\n",
      "\u001b[1m314/314\u001b[0m \u001b[32m━━━━━━━━━━━━━━━━━━━━\u001b[0m\u001b[37m\u001b[0m \u001b[1m13s\u001b[0m 40ms/step - accuracy: 0.0408 - loss: 6.4470 - val_accuracy: 0.0435 - val_loss: 8.3847\n",
      "\u001b[1m257/257\u001b[0m \u001b[32m━━━━━━━━━━━━━━━━━━━━\u001b[0m\u001b[37m\u001b[0m \u001b[1m2s\u001b[0m 6ms/step\n"
     ]
    },
    {
     "name": "stderr",
     "output_type": "stream",
     "text": [
      "2024-05-26 00:20:50.637380: W external/local_tsl/tsl/framework/cpu_allocator_impl.cc:83] Allocation of 563684880 exceeds 10% of free system memory.\n"
     ]
    },
    {
     "ename": "",
     "evalue": "",
     "output_type": "error",
     "traceback": [
      "\u001b[1;31mThe Kernel crashed while executing code in the current cell or a previous cell. \n",
      "\u001b[1;31mPlease review the code in the cell(s) to identify a possible cause of the failure. \n",
      "\u001b[1;31mClick <a href='https://aka.ms/vscodeJupyterKernelCrash'>here</a> for more info. \n",
      "\u001b[1;31mView Jupyter <a href='command:jupyter.viewOutput'>log</a> for further details."
     ]
    }
   ],
   "source": [
    "# Train and predict using Dask delayed functions\n",
    "rf_preds, gbm_preds, lstm_preds = compute(train_rf(X_train, y_train, X_test), train_gbm(X_train, y_train, X_test), train_lstm(X_train, y_train, X_test))\n",
    "\n",
    "# Save model predictions to checkpoint\n",
    "save_data((collab_preds, markov_preds, rf_preds, gbm_preds, lstm_preds), models_predictions_path)\n",
    "print(\"Saved model predictions to checkpoint.\")\n"
   ]
  },
  {
   "cell_type": "code",
   "execution_count": null,
   "id": "4af04408",
   "metadata": {},
   "outputs": [
    {
     "ename": "ValueError",
     "evalue": "Found input variables with inconsistent numbers of samples: [110, 3677]",
     "output_type": "error",
     "traceback": [
      "\u001b[0;31m---------------------------------------------------------------------------\u001b[0m",
      "\u001b[0;31mValueError\u001b[0m                                Traceback (most recent call last)",
      "Cell \u001b[0;32mIn[9], line 2\u001b[0m\n\u001b[1;32m      1\u001b[0m \u001b[38;5;66;03m# Evaluate all models\u001b[39;00m\n\u001b[0;32m----> 2\u001b[0m collab_accuracy, collab_precision \u001b[38;5;241m=\u001b[39m \u001b[43mevaluate_model\u001b[49m\u001b[43m(\u001b[49m\u001b[43mencoder\u001b[49m\u001b[38;5;241;43m.\u001b[39;49m\u001b[43minverse_transform\u001b[49m\u001b[43m(\u001b[49m\u001b[43my_test\u001b[49m\u001b[43m)\u001b[49m\u001b[43m,\u001b[49m\u001b[43m \u001b[49m\u001b[43mcollab_preds\u001b[49m\u001b[43m)\u001b[49m\n\u001b[1;32m      3\u001b[0m markov_accuracy, markov_precision \u001b[38;5;241m=\u001b[39m evaluate_model(encoder\u001b[38;5;241m.\u001b[39minverse_transform(y_test), markov_preds)\n\u001b[1;32m      4\u001b[0m rf_accuracy, rf_precision \u001b[38;5;241m=\u001b[39m evaluate_model(encoder\u001b[38;5;241m.\u001b[39minverse_transform(y_test), rf_preds)\n",
      "Cell \u001b[0;32mIn[7], line 19\u001b[0m, in \u001b[0;36mevaluate_model\u001b[0;34m(y_true, y_pred)\u001b[0m\n\u001b[1;32m     16\u001b[0m y_true_encoded \u001b[38;5;241m=\u001b[39m encoder\u001b[38;5;241m.\u001b[39mtransform(y_true_filtered)\n\u001b[1;32m     17\u001b[0m y_pred_encoded \u001b[38;5;241m=\u001b[39m encoder\u001b[38;5;241m.\u001b[39mtransform(y_pred_mapped)\n\u001b[0;32m---> 19\u001b[0m accuracy \u001b[38;5;241m=\u001b[39m \u001b[43maccuracy_score\u001b[49m\u001b[43m(\u001b[49m\u001b[43my_true_encoded\u001b[49m\u001b[43m,\u001b[49m\u001b[43m \u001b[49m\u001b[43my_pred_encoded\u001b[49m\u001b[43m)\u001b[49m\n\u001b[1;32m     20\u001b[0m precision \u001b[38;5;241m=\u001b[39m precision_score(y_true_encoded, y_pred_encoded, average\u001b[38;5;241m=\u001b[39m\u001b[38;5;124m'\u001b[39m\u001b[38;5;124mweighted\u001b[39m\u001b[38;5;124m'\u001b[39m, zero_division\u001b[38;5;241m=\u001b[39m\u001b[38;5;241m1\u001b[39m)\n\u001b[1;32m     21\u001b[0m \u001b[38;5;28;01mreturn\u001b[39;00m accuracy, precision\n",
      "File \u001b[0;32m~/Documents/projects/RecSys-local/.venv/lib/python3.10/site-packages/sklearn/utils/_param_validation.py:213\u001b[0m, in \u001b[0;36mvalidate_params.<locals>.decorator.<locals>.wrapper\u001b[0;34m(*args, **kwargs)\u001b[0m\n\u001b[1;32m    207\u001b[0m \u001b[38;5;28;01mtry\u001b[39;00m:\n\u001b[1;32m    208\u001b[0m     \u001b[38;5;28;01mwith\u001b[39;00m config_context(\n\u001b[1;32m    209\u001b[0m         skip_parameter_validation\u001b[38;5;241m=\u001b[39m(\n\u001b[1;32m    210\u001b[0m             prefer_skip_nested_validation \u001b[38;5;129;01mor\u001b[39;00m global_skip_validation\n\u001b[1;32m    211\u001b[0m         )\n\u001b[1;32m    212\u001b[0m     ):\n\u001b[0;32m--> 213\u001b[0m         \u001b[38;5;28;01mreturn\u001b[39;00m \u001b[43mfunc\u001b[49m\u001b[43m(\u001b[49m\u001b[38;5;241;43m*\u001b[39;49m\u001b[43margs\u001b[49m\u001b[43m,\u001b[49m\u001b[43m \u001b[49m\u001b[38;5;241;43m*\u001b[39;49m\u001b[38;5;241;43m*\u001b[39;49m\u001b[43mkwargs\u001b[49m\u001b[43m)\u001b[49m\n\u001b[1;32m    214\u001b[0m \u001b[38;5;28;01mexcept\u001b[39;00m InvalidParameterError \u001b[38;5;28;01mas\u001b[39;00m e:\n\u001b[1;32m    215\u001b[0m     \u001b[38;5;66;03m# When the function is just a wrapper around an estimator, we allow\u001b[39;00m\n\u001b[1;32m    216\u001b[0m     \u001b[38;5;66;03m# the function to delegate validation to the estimator, but we replace\u001b[39;00m\n\u001b[1;32m    217\u001b[0m     \u001b[38;5;66;03m# the name of the estimator by the name of the function in the error\u001b[39;00m\n\u001b[1;32m    218\u001b[0m     \u001b[38;5;66;03m# message to avoid confusion.\u001b[39;00m\n\u001b[1;32m    219\u001b[0m     msg \u001b[38;5;241m=\u001b[39m re\u001b[38;5;241m.\u001b[39msub(\n\u001b[1;32m    220\u001b[0m         \u001b[38;5;124mr\u001b[39m\u001b[38;5;124m\"\u001b[39m\u001b[38;5;124mparameter of \u001b[39m\u001b[38;5;124m\\\u001b[39m\u001b[38;5;124mw+ must be\u001b[39m\u001b[38;5;124m\"\u001b[39m,\n\u001b[1;32m    221\u001b[0m         \u001b[38;5;124mf\u001b[39m\u001b[38;5;124m\"\u001b[39m\u001b[38;5;124mparameter of \u001b[39m\u001b[38;5;132;01m{\u001b[39;00mfunc\u001b[38;5;241m.\u001b[39m\u001b[38;5;18m__qualname__\u001b[39m\u001b[38;5;132;01m}\u001b[39;00m\u001b[38;5;124m must be\u001b[39m\u001b[38;5;124m\"\u001b[39m,\n\u001b[1;32m    222\u001b[0m         \u001b[38;5;28mstr\u001b[39m(e),\n\u001b[1;32m    223\u001b[0m     )\n",
      "File \u001b[0;32m~/Documents/projects/RecSys-local/.venv/lib/python3.10/site-packages/sklearn/metrics/_classification.py:213\u001b[0m, in \u001b[0;36maccuracy_score\u001b[0;34m(y_true, y_pred, normalize, sample_weight)\u001b[0m\n\u001b[1;32m    147\u001b[0m \u001b[38;5;250m\u001b[39m\u001b[38;5;124;03m\"\"\"Accuracy classification score.\u001b[39;00m\n\u001b[1;32m    148\u001b[0m \n\u001b[1;32m    149\u001b[0m \u001b[38;5;124;03mIn multilabel classification, this function computes subset accuracy:\u001b[39;00m\n\u001b[0;32m   (...)\u001b[0m\n\u001b[1;32m    209\u001b[0m \u001b[38;5;124;03m0.5\u001b[39;00m\n\u001b[1;32m    210\u001b[0m \u001b[38;5;124;03m\"\"\"\u001b[39;00m\n\u001b[1;32m    212\u001b[0m \u001b[38;5;66;03m# Compute accuracy for each possible representation\u001b[39;00m\n\u001b[0;32m--> 213\u001b[0m y_type, y_true, y_pred \u001b[38;5;241m=\u001b[39m \u001b[43m_check_targets\u001b[49m\u001b[43m(\u001b[49m\u001b[43my_true\u001b[49m\u001b[43m,\u001b[49m\u001b[43m \u001b[49m\u001b[43my_pred\u001b[49m\u001b[43m)\u001b[49m\n\u001b[1;32m    214\u001b[0m check_consistent_length(y_true, y_pred, sample_weight)\n\u001b[1;32m    215\u001b[0m \u001b[38;5;28;01mif\u001b[39;00m y_type\u001b[38;5;241m.\u001b[39mstartswith(\u001b[38;5;124m\"\u001b[39m\u001b[38;5;124mmultilabel\u001b[39m\u001b[38;5;124m\"\u001b[39m):\n",
      "File \u001b[0;32m~/Documents/projects/RecSys-local/.venv/lib/python3.10/site-packages/sklearn/metrics/_classification.py:85\u001b[0m, in \u001b[0;36m_check_targets\u001b[0;34m(y_true, y_pred)\u001b[0m\n\u001b[1;32m     58\u001b[0m \u001b[38;5;28;01mdef\u001b[39;00m \u001b[38;5;21m_check_targets\u001b[39m(y_true, y_pred):\n\u001b[1;32m     59\u001b[0m \u001b[38;5;250m    \u001b[39m\u001b[38;5;124;03m\"\"\"Check that y_true and y_pred belong to the same classification task.\u001b[39;00m\n\u001b[1;32m     60\u001b[0m \n\u001b[1;32m     61\u001b[0m \u001b[38;5;124;03m    This converts multiclass or binary types to a common shape, and raises a\u001b[39;00m\n\u001b[0;32m   (...)\u001b[0m\n\u001b[1;32m     83\u001b[0m \u001b[38;5;124;03m    y_pred : array or indicator matrix\u001b[39;00m\n\u001b[1;32m     84\u001b[0m \u001b[38;5;124;03m    \"\"\"\u001b[39;00m\n\u001b[0;32m---> 85\u001b[0m     \u001b[43mcheck_consistent_length\u001b[49m\u001b[43m(\u001b[49m\u001b[43my_true\u001b[49m\u001b[43m,\u001b[49m\u001b[43m \u001b[49m\u001b[43my_pred\u001b[49m\u001b[43m)\u001b[49m\n\u001b[1;32m     86\u001b[0m     type_true \u001b[38;5;241m=\u001b[39m type_of_target(y_true, input_name\u001b[38;5;241m=\u001b[39m\u001b[38;5;124m\"\u001b[39m\u001b[38;5;124my_true\u001b[39m\u001b[38;5;124m\"\u001b[39m)\n\u001b[1;32m     87\u001b[0m     type_pred \u001b[38;5;241m=\u001b[39m type_of_target(y_pred, input_name\u001b[38;5;241m=\u001b[39m\u001b[38;5;124m\"\u001b[39m\u001b[38;5;124my_pred\u001b[39m\u001b[38;5;124m\"\u001b[39m)\n",
      "File \u001b[0;32m~/Documents/projects/RecSys-local/.venv/lib/python3.10/site-packages/sklearn/utils/validation.py:457\u001b[0m, in \u001b[0;36mcheck_consistent_length\u001b[0;34m(*arrays)\u001b[0m\n\u001b[1;32m    455\u001b[0m uniques \u001b[38;5;241m=\u001b[39m np\u001b[38;5;241m.\u001b[39munique(lengths)\n\u001b[1;32m    456\u001b[0m \u001b[38;5;28;01mif\u001b[39;00m \u001b[38;5;28mlen\u001b[39m(uniques) \u001b[38;5;241m>\u001b[39m \u001b[38;5;241m1\u001b[39m:\n\u001b[0;32m--> 457\u001b[0m     \u001b[38;5;28;01mraise\u001b[39;00m \u001b[38;5;167;01mValueError\u001b[39;00m(\n\u001b[1;32m    458\u001b[0m         \u001b[38;5;124m\"\u001b[39m\u001b[38;5;124mFound input variables with inconsistent numbers of samples: \u001b[39m\u001b[38;5;132;01m%r\u001b[39;00m\u001b[38;5;124m\"\u001b[39m\n\u001b[1;32m    459\u001b[0m         \u001b[38;5;241m%\u001b[39m [\u001b[38;5;28mint\u001b[39m(l) \u001b[38;5;28;01mfor\u001b[39;00m l \u001b[38;5;129;01min\u001b[39;00m lengths]\n\u001b[1;32m    460\u001b[0m     )\n",
      "\u001b[0;31mValueError\u001b[0m: Found input variables with inconsistent numbers of samples: [110, 3677]"
     ]
    }
   ],
   "source": [
    "# Evaluating Predictions\n",
    "collab_accuracy, collab_precision = evaluate_model(y_test, collab_preds)\n",
    "markov_accuracy, markov_precision = evaluate_model(y_test, markov_preds)\n",
    "rf_accuracy, rf_precision = evaluate_model(encoder.inverse_transform(y_test), rf_preds)\n",
    "gbm_accuracy, gbm_precision = evaluate_model(encoder.inverse_transform(y_test), gbm_preds)\n",
    "lstm_accuracy, lstm_precision = evaluate_model(encoder.inverse_transform(y_test), lstm_preds)\n",
    "\n",
    "# Print the results\n",
    "print(f\"Collaborative Filtering - Accuracy: {collab_accuracy:.2f}, Precision: {collab_precision:.2f}\")\n",
    "print(f\"Markov Chains - Accuracy: {markov_accuracy:.2f}, Precision: {markov_precision:.2f}\")\n",
    "print(f\"Random Forest - Accuracy: {rf_accuracy:.2f}, Precision: {rf_precision:.2f}\")\n",
    "print(f\"Gradient Boosting - Accuracy: {gbm_accuracy:.2f}, Precision: {gbm_precision:.2f}\")\n",
    "print(f\"LSTM - Accuracy: {lstm_accuracy:.2f}, Precision: {lstm_precision:.2f}\")"
   ]
  },
  {
   "cell_type": "code",
   "execution_count": null,
   "id": "47f7cd24",
   "metadata": {},
   "outputs": [],
   "source": [
    "# Function to save predictions to CSV\n",
    "def save_predictions(predictions, filename, current_city):\n",
    "    preds_df = pd.DataFrame(predictions, columns=['predicted_next_city_country'])\n",
    "    preds_df['current_city_country'] = current_city\n",
    "    preds_df.to_csv(filename, index=False)\n",
    "    print(f'Predictions written to {filename}')\n",
    "\n",
    "# Prepare current city data for reference\n",
    "current_city = [encoder.inverse_transform([seq[-1]])[0] for seq in encoded_test_sequences]\n",
    "\n",
    "# Save the predictions for each model\n",
    "model_predictions = {\n",
    "    'collab_predictions.csv': collab_preds,\n",
    "    'markov_predictions.csv': markov_preds,\n",
    "    'rf_predictions.csv': rf_preds,\n",
    "    'gbm_predictions.csv': gbm_preds,\n",
    "    'lstm_predictions.csv': lstm_preds\n",
    "}\n",
    "\n",
    "for filename, preds in model_predictions.items():\n",
    "    save_predictions(preds, filename, current_city, encoded_test_sequences)"
   ]
  }
 ],
 "metadata": {
  "kernelspec": {
   "display_name": "Python 3 (ipykernel)",
   "language": "python",
   "name": "python3"
  },
  "language_info": {
   "codemirror_mode": {
    "name": "ipython",
    "version": 3
   },
   "file_extension": ".py",
   "mimetype": "text/x-python",
   "name": "python",
   "nbconvert_exporter": "python",
   "pygments_lexer": "ipython3",
   "version": "3.10.12"
  }
 },
 "nbformat": 4,
 "nbformat_minor": 5
}
