{
 "cells": [
  {
   "cell_type": "markdown",
   "id": "12d70e13",
   "metadata": {},
   "source": [
    "#### We'll will compare the following models for their accuracy and precision. \n",
    "\n",
    "1. Collaborative Filtering (Item-Based)\n",
    "2. Markov Chains\n",
    "3. Random Forest\n",
    "4. Gradient Boosting Machine\n",
    "5. Recurrent Neural Networks (RNN) - LSTM\n",
    "\n",
    "To get us started we will set up the preprocessing and helper functions that will be used by all models."
   ]
  },
  {
   "cell_type": "code",
   "execution_count": 14,
   "id": "fd41089e",
   "metadata": {},
   "outputs": [],
   "source": [
    "import dask.dataframe as dd\n",
    "import pandas as pd\n",
    "import numpy as np\n",
    "from sklearn.preprocessing import LabelEncoder\n",
    "from keras.preprocessing.sequence import pad_sequences\n",
    "from tqdm import tqdm\n",
    "from dask.diagnostics import ProgressBar\n",
    "from sklearn.metrics import accuracy_score, precision_score\n",
    "from sklearn.ensemble import RandomForestClassifier, GradientBoostingClassifier\n",
    "from keras.models import Sequential\n",
    "from keras.layers import Embedding, LSTM, Dense\n",
    "from dask import delayed, compute\n",
    "from sklearn.metrics.pairwise import cosine_similarity\n",
    "from sklearn.decomposition import TruncatedSVD\n",
    "\n",
    "\n"
   ]
  },
  {
   "cell_type": "code",
   "execution_count": 15,
   "id": "e9dc5b31",
   "metadata": {},
   "outputs": [
    {
     "name": "stdout",
     "output_type": "stream",
     "text": [
      "[######                                  ] | 16% Completed | 101.93 ms"
     ]
    },
    {
     "name": "stderr",
     "output_type": "stream",
     "text": [
      "/tmp/ipykernel_66719/1972065867.py:37: UserWarning: `meta` is not specified, inferred from partial data. Please provide `meta` if the result is unexpected.\n",
      "  Before: .apply(func)\n",
      "  After:  .apply(func, meta={'x': 'f8', 'y': 'f8'}) for dataframe result\n",
      "  or:     .apply(func, meta=('x', 'f8'))            for series result\n",
      "  train_sequences = train_data.groupby('utrip_id')['city_country'].apply(list).compute().tolist()\n"
     ]
    },
    {
     "name": "stdout",
     "output_type": "stream",
     "text": [
      "[########################################] | 100% Completed | 2.04 sms\n",
      "[######                                  ] | 16% Completed | 102.24 ms"
     ]
    },
    {
     "name": "stderr",
     "output_type": "stream",
     "text": [
      "/tmp/ipykernel_66719/1972065867.py:38: UserWarning: `meta` is not specified, inferred from partial data. Please provide `meta` if the result is unexpected.\n",
      "  Before: .apply(func)\n",
      "  After:  .apply(func, meta={'x': 'f8', 'y': 'f8'}) for dataframe result\n",
      "  or:     .apply(func, meta=('x', 'f8'))            for series result\n",
      "  test_sequences = test_data.groupby('utrip_id')['city_country'].apply(list).compute().tolist()\n"
     ]
    },
    {
     "name": "stdout",
     "output_type": "stream",
     "text": [
      "[########################################] | 100% Completed | 780.22 ms\n"
     ]
    }
   ],
   "source": [
    "# Load the datasets\n",
    "train_data = dd.read_csv('train_set.csv')\n",
    "test_data = dd.read_csv('test_set.csv')\n",
    "\n",
    "# Sample a subset of the data (optional, adjust frac as needed)\n",
    "fraction_of_data_to_use = 0.01  # Adjust this value to suit your needs\n",
    "train_data = train_data.sample(frac=fraction_of_data_to_use)\n",
    "test_data = test_data.sample(frac=fraction_of_data_to_use)\n",
    "\n",
    "# Ensure 'checkin' is in string format\n",
    "train_data['checkin'] = train_data['checkin'].astype(str)\n",
    "test_data['checkin'] = test_data['checkin'].astype(str)\n",
    "\n",
    "# Create a new column that combines 'utrip_id' and 'checkin'\n",
    "train_data['utrip_id_checkin'] = train_data['utrip_id'].astype(str) + '_' + train_data['checkin']\n",
    "test_data['utrip_id_checkin'] = test_data['utrip_id'].astype(str) + '_' + test_data['checkin']\n",
    "\n",
    "# Set the new column as index (if necessary for your logic)\n",
    "# Note: This may not be necessary for the overall logic.\n",
    "# train_data = train_data.set_index('utrip_id_checkin')\n",
    "# test_data = test_data.set_index('utrip_id_checkin')\n",
    "\n",
    "# Create a city_country column\n",
    "train_data['city_country'] = train_data['city_id'].astype(str) + '_' + train_data['hotel_country'].astype(str)\n",
    "test_data['city_country'] = test_data['city_id'].astype(str) + '_' + test_data['hotel_country'].astype(str)\n",
    "\n",
    "# Handle missing values\n",
    "train_data['city_country'] = train_data['city_country'].fillna('missing')\n",
    "test_data['city_country'] = test_data['city_country'].fillna('missing')\n",
    "\n",
    "# Convert city_country to category type for efficient encoding\n",
    "train_data = train_data.categorize(columns=['city_country'])\n",
    "test_data = test_data.categorize(columns=['city_country'])\n",
    "\n",
    "# Group by utrip_id to create sequences\n",
    "with ProgressBar():\n",
    "    train_sequences = train_data.groupby('utrip_id')['city_country'].apply(list).compute().tolist()\n",
    "    test_sequences = test_data.groupby('utrip_id')['city_country'].apply(list).compute().tolist()\n",
    "\n",
    "# Encode city_country strings as integers\n",
    "encoder = LabelEncoder()\n",
    "all_sequences = train_sequences + test_sequences\n",
    "all_cities_countries = [city_country for seq in all_sequences for city_country in seq]\n",
    "encoder.fit(all_cities_countries)\n",
    "\n",
    "encoded_train_sequences = [encoder.transform(seq).tolist() for seq in train_sequences]\n",
    "encoded_test_sequences = [encoder.transform(seq).tolist() for seq in test_sequences]\n",
    "\n",
    "# Prepare data for training models\n",
    "def prepare_data(sequences, sequence_length=10):\n",
    "    X, y = [], []\n",
    "    for seq in tqdm(sequences, desc=\"Preparing data\"):\n",
    "        for i in range(1, min(len(seq), sequence_length + 1)):\n",
    "            X.append(seq[:i])\n",
    "            y.append(seq[i])\n",
    "    X = pad_sequences(X, maxlen=sequence_length, padding='pre')\n",
    "    y = np.array(y)\n",
    "    return X, y\n",
    "\n",
    "X_train, y_train = prepare_data(encoded_train_sequences)\n",
    "X_test, y_test = prepare_data(encoded_test_sequences)\n",
    "\n",
    "# Print shapes to verify the data preparation\n",
    "print(f\"X_train shape: {X_train.shape}\")\n",
    "print(f\"y_train shape: {y_train.shape}\")\n",
    "print(f\"X_test shape: {X_test.shape}\")\n",
    "print(f\"y_test shape: {y_test.shape}\")"
   ]
  },
  {
   "cell_type": "code",
   "execution_count": null,
   "id": "57608e64",
   "metadata": {},
   "outputs": [
    {
     "name": "stdout",
     "output_type": "stream",
     "text": [
      "First 5 rows of X_train:\n",
      "[[   0    0    0    0    0    0    0    0    0 4041]\n",
      " [   0    0    0    0    0    0    0    0    0 3963]\n",
      " [   0    0    0    0    0    0    0    0    0 2142]\n",
      " [   0    0    0    0    0    0    0    0    0 2520]\n",
      " [   0    0    0    0    0    0    0    0    0 1392]]\n",
      "\n",
      "First 5 elements of y_train:\n",
      "[2071 2636 4098  162 1554]\n",
      "\n",
      "First 5 rows of X_train (as DataFrame):\n",
      "   0  1  2  3  4  5  6  7  8     9\n",
      "0  0  0  0  0  0  0  0  0  0  4041\n",
      "1  0  0  0  0  0  0  0  0  0  3963\n",
      "2  0  0  0  0  0  0  0  0  0  2142\n",
      "3  0  0  0  0  0  0  0  0  0  2520\n",
      "4  0  0  0  0  0  0  0  0  0  1392\n",
      "\n",
      "First 5 elements of y_train (as DataFrame):\n",
      "0    2071\n",
      "1    2636\n",
      "2    4098\n",
      "3     162\n",
      "4    1554\n",
      "Name: Target, dtype: int64\n",
      "\n",
      "First 5 rows of X_test (as DataFrame):\n",
      "   0  1  2  3  4  5  6  7  8     9\n",
      "0  0  0  0  0  0  0  0  0  0     0\n",
      "1  0  0  0  0  0  0  0  0  0  1320\n",
      "2  0  0  0  0  0  0  0  0  0  1229\n",
      "3  0  0  0  0  0  0  0  0  0  2957\n",
      "4  0  0  0  0  0  0  0  0  0     0\n",
      "\n",
      "First 5 elements of y_test (as DataFrame):\n",
      "0    1508\n",
      "1    1084\n",
      "2    3378\n",
      "3    1941\n",
      "4    1264\n",
      "Name: Target, dtype: int64\n"
     ]
    }
   ],
   "source": [
    "# Print the first 5 rows of X_train and y_train\n",
    "print(\"First 5 rows of X_train:\")\n",
    "print(X_train[:5])\n",
    "\n",
    "print(\"\\nFirst 5 elements of y_train:\")\n",
    "print(y_train[:5])\n",
    "\n",
    "# Convert to Dask DataFrame for better readability\n",
    "X_train_dd = dd.from_pandas(pd.DataFrame(X_train), npartitions=5)\n",
    "y_train_dd = dd.from_pandas(pd.Series(y_train, name='Target'), npartitions=5)\n",
    "\n",
    "X_test_dd = dd.from_pandas(pd.DataFrame(X_test), npartitions=5)\n",
    "y_test_dd = dd.from_pandas(pd.Series(y_test, name='Target'), npartitions=5)\n",
    "\n",
    "# Display the first 5 rows\n",
    "print(\"\\nFirst 5 rows of X_train (as DataFrame):\")\n",
    "print(X_train_dd.head())\n",
    "\n",
    "print(\"\\nFirst 5 elements of y_train (as DataFrame):\")\n",
    "print(y_train_dd.head())\n",
    "\n",
    "print(\"\\nFirst 5 rows of X_test (as DataFrame):\")\n",
    "print(X_test_dd.head())\n",
    "\n",
    "print(\"\\nFirst 5 elements of y_test (as DataFrame):\")\n",
    "print(y_test_dd.head())"
   ]
  },
  {
   "cell_type": "code",
   "execution_count": null,
   "id": "5b03823d",
   "metadata": {},
   "outputs": [
    {
     "name": "stdout",
     "output_type": "stream",
     "text": [
      "Unique city_country values: 4757\n"
     ]
    }
   ],
   "source": [
    "unique_city_country = set(city_country for seq in all_sequences for city_country in seq)\n",
    "print(\"Unique city_country values:\", len(unique_city_country))"
   ]
  },
  {
   "cell_type": "markdown",
   "id": "78dd1082",
   "metadata": {},
   "source": [
    "### Collaborative Filtering (Item-Based)"
   ]
  },
  {
   "cell_type": "code",
   "execution_count": null,
   "id": "00dddb85",
   "metadata": {},
   "outputs": [
    {
     "ename": "KeyboardInterrupt",
     "evalue": "",
     "output_type": "error",
     "traceback": [
      "\u001b[0;31m---------------------------------------------------------------------------\u001b[0m",
      "\u001b[0;31mKeyboardInterrupt\u001b[0m                         Traceback (most recent call last)",
      "Cell \u001b[0;32mIn[13], line 14\u001b[0m\n\u001b[1;32m     12\u001b[0m embedding_dim \u001b[38;5;241m=\u001b[39m \u001b[38;5;241m50\u001b[39m  \u001b[38;5;66;03m# Adjust as needed\u001b[39;00m\n\u001b[1;32m     13\u001b[0m svd \u001b[38;5;241m=\u001b[39m TruncatedSVD(n_components\u001b[38;5;241m=\u001b[39membedding_dim)\n\u001b[0;32m---> 14\u001b[0m item_embeddings \u001b[38;5;241m=\u001b[39m \u001b[43msvd\u001b[49m\u001b[38;5;241;43m.\u001b[39;49m\u001b[43mfit_transform\u001b[49m\u001b[43m(\u001b[49m\u001b[43mitem_cooccurrence_matrix\u001b[49m\u001b[43m)\u001b[49m\n\u001b[1;32m     16\u001b[0m \u001b[38;5;66;03m# Calculate cosine similarity matrix for embeddings\u001b[39;00m\n\u001b[1;32m     17\u001b[0m item_sim_matrix \u001b[38;5;241m=\u001b[39m cosine_similarity(item_embeddings)\n",
      "File \u001b[0;32m~/Documents/projects/RecSys-local/.venv/lib/python3.10/site-packages/sklearn/utils/_set_output.py:295\u001b[0m, in \u001b[0;36m_wrap_method_output.<locals>.wrapped\u001b[0;34m(self, X, *args, **kwargs)\u001b[0m\n\u001b[1;32m    293\u001b[0m \u001b[38;5;129m@wraps\u001b[39m(f)\n\u001b[1;32m    294\u001b[0m \u001b[38;5;28;01mdef\u001b[39;00m \u001b[38;5;21mwrapped\u001b[39m(\u001b[38;5;28mself\u001b[39m, X, \u001b[38;5;241m*\u001b[39margs, \u001b[38;5;241m*\u001b[39m\u001b[38;5;241m*\u001b[39mkwargs):\n\u001b[0;32m--> 295\u001b[0m     data_to_wrap \u001b[38;5;241m=\u001b[39m \u001b[43mf\u001b[49m\u001b[43m(\u001b[49m\u001b[38;5;28;43mself\u001b[39;49m\u001b[43m,\u001b[49m\u001b[43m \u001b[49m\u001b[43mX\u001b[49m\u001b[43m,\u001b[49m\u001b[43m \u001b[49m\u001b[38;5;241;43m*\u001b[39;49m\u001b[43margs\u001b[49m\u001b[43m,\u001b[49m\u001b[43m \u001b[49m\u001b[38;5;241;43m*\u001b[39;49m\u001b[38;5;241;43m*\u001b[39;49m\u001b[43mkwargs\u001b[49m\u001b[43m)\u001b[49m\n\u001b[1;32m    296\u001b[0m     \u001b[38;5;28;01mif\u001b[39;00m \u001b[38;5;28misinstance\u001b[39m(data_to_wrap, \u001b[38;5;28mtuple\u001b[39m):\n\u001b[1;32m    297\u001b[0m         \u001b[38;5;66;03m# only wrap the first output for cross decomposition\u001b[39;00m\n\u001b[1;32m    298\u001b[0m         return_tuple \u001b[38;5;241m=\u001b[39m (\n\u001b[1;32m    299\u001b[0m             _wrap_data_with_container(method, data_to_wrap[\u001b[38;5;241m0\u001b[39m], X, \u001b[38;5;28mself\u001b[39m),\n\u001b[1;32m    300\u001b[0m             \u001b[38;5;241m*\u001b[39mdata_to_wrap[\u001b[38;5;241m1\u001b[39m:],\n\u001b[1;32m    301\u001b[0m         )\n",
      "File \u001b[0;32m~/Documents/projects/RecSys-local/.venv/lib/python3.10/site-packages/sklearn/base.py:1474\u001b[0m, in \u001b[0;36m_fit_context.<locals>.decorator.<locals>.wrapper\u001b[0;34m(estimator, *args, **kwargs)\u001b[0m\n\u001b[1;32m   1467\u001b[0m     estimator\u001b[38;5;241m.\u001b[39m_validate_params()\n\u001b[1;32m   1469\u001b[0m \u001b[38;5;28;01mwith\u001b[39;00m config_context(\n\u001b[1;32m   1470\u001b[0m     skip_parameter_validation\u001b[38;5;241m=\u001b[39m(\n\u001b[1;32m   1471\u001b[0m         prefer_skip_nested_validation \u001b[38;5;129;01mor\u001b[39;00m global_skip_validation\n\u001b[1;32m   1472\u001b[0m     )\n\u001b[1;32m   1473\u001b[0m ):\n\u001b[0;32m-> 1474\u001b[0m     \u001b[38;5;28;01mreturn\u001b[39;00m \u001b[43mfit_method\u001b[49m\u001b[43m(\u001b[49m\u001b[43mestimator\u001b[49m\u001b[43m,\u001b[49m\u001b[43m \u001b[49m\u001b[38;5;241;43m*\u001b[39;49m\u001b[43margs\u001b[49m\u001b[43m,\u001b[49m\u001b[43m \u001b[49m\u001b[38;5;241;43m*\u001b[39;49m\u001b[38;5;241;43m*\u001b[39;49m\u001b[43mkwargs\u001b[49m\u001b[43m)\u001b[49m\n",
      "File \u001b[0;32m~/Documents/projects/RecSys-local/.venv/lib/python3.10/site-packages/sklearn/decomposition/_truncated_svd.py:246\u001b[0m, in \u001b[0;36mTruncatedSVD.fit_transform\u001b[0;34m(self, X, y)\u001b[0m\n\u001b[1;32m    241\u001b[0m     \u001b[38;5;28;01mif\u001b[39;00m \u001b[38;5;28mself\u001b[39m\u001b[38;5;241m.\u001b[39mn_components \u001b[38;5;241m>\u001b[39m X\u001b[38;5;241m.\u001b[39mshape[\u001b[38;5;241m1\u001b[39m]:\n\u001b[1;32m    242\u001b[0m         \u001b[38;5;28;01mraise\u001b[39;00m \u001b[38;5;167;01mValueError\u001b[39;00m(\n\u001b[1;32m    243\u001b[0m             \u001b[38;5;124mf\u001b[39m\u001b[38;5;124m\"\u001b[39m\u001b[38;5;124mn_components(\u001b[39m\u001b[38;5;132;01m{\u001b[39;00m\u001b[38;5;28mself\u001b[39m\u001b[38;5;241m.\u001b[39mn_components\u001b[38;5;132;01m}\u001b[39;00m\u001b[38;5;124m) must be <=\u001b[39m\u001b[38;5;124m\"\u001b[39m\n\u001b[1;32m    244\u001b[0m             \u001b[38;5;124mf\u001b[39m\u001b[38;5;124m\"\u001b[39m\u001b[38;5;124m n_features(\u001b[39m\u001b[38;5;132;01m{\u001b[39;00mX\u001b[38;5;241m.\u001b[39mshape[\u001b[38;5;241m1\u001b[39m]\u001b[38;5;132;01m}\u001b[39;00m\u001b[38;5;124m).\u001b[39m\u001b[38;5;124m\"\u001b[39m\n\u001b[1;32m    245\u001b[0m         )\n\u001b[0;32m--> 246\u001b[0m     U, Sigma, VT \u001b[38;5;241m=\u001b[39m \u001b[43mrandomized_svd\u001b[49m\u001b[43m(\u001b[49m\n\u001b[1;32m    247\u001b[0m \u001b[43m        \u001b[49m\u001b[43mX\u001b[49m\u001b[43m,\u001b[49m\n\u001b[1;32m    248\u001b[0m \u001b[43m        \u001b[49m\u001b[38;5;28;43mself\u001b[39;49m\u001b[38;5;241;43m.\u001b[39;49m\u001b[43mn_components\u001b[49m\u001b[43m,\u001b[49m\n\u001b[1;32m    249\u001b[0m \u001b[43m        \u001b[49m\u001b[43mn_iter\u001b[49m\u001b[38;5;241;43m=\u001b[39;49m\u001b[38;5;28;43mself\u001b[39;49m\u001b[38;5;241;43m.\u001b[39;49m\u001b[43mn_iter\u001b[49m\u001b[43m,\u001b[49m\n\u001b[1;32m    250\u001b[0m \u001b[43m        \u001b[49m\u001b[43mn_oversamples\u001b[49m\u001b[38;5;241;43m=\u001b[39;49m\u001b[38;5;28;43mself\u001b[39;49m\u001b[38;5;241;43m.\u001b[39;49m\u001b[43mn_oversamples\u001b[49m\u001b[43m,\u001b[49m\n\u001b[1;32m    251\u001b[0m \u001b[43m        \u001b[49m\u001b[43mpower_iteration_normalizer\u001b[49m\u001b[38;5;241;43m=\u001b[39;49m\u001b[38;5;28;43mself\u001b[39;49m\u001b[38;5;241;43m.\u001b[39;49m\u001b[43mpower_iteration_normalizer\u001b[49m\u001b[43m,\u001b[49m\n\u001b[1;32m    252\u001b[0m \u001b[43m        \u001b[49m\u001b[43mrandom_state\u001b[49m\u001b[38;5;241;43m=\u001b[39;49m\u001b[43mrandom_state\u001b[49m\u001b[43m,\u001b[49m\n\u001b[1;32m    253\u001b[0m \u001b[43m    \u001b[49m\u001b[43m)\u001b[49m\n\u001b[1;32m    255\u001b[0m \u001b[38;5;28mself\u001b[39m\u001b[38;5;241m.\u001b[39mcomponents_ \u001b[38;5;241m=\u001b[39m VT\n\u001b[1;32m    257\u001b[0m \u001b[38;5;66;03m# As a result of the SVD approximation error on X ~ U @ Sigma @ V.T,\u001b[39;00m\n\u001b[1;32m    258\u001b[0m \u001b[38;5;66;03m# X @ V is not the same as U @ Sigma\u001b[39;00m\n",
      "File \u001b[0;32m~/Documents/projects/RecSys-local/.venv/lib/python3.10/site-packages/sklearn/utils/_param_validation.py:186\u001b[0m, in \u001b[0;36mvalidate_params.<locals>.decorator.<locals>.wrapper\u001b[0;34m(*args, **kwargs)\u001b[0m\n\u001b[1;32m    184\u001b[0m global_skip_validation \u001b[38;5;241m=\u001b[39m get_config()[\u001b[38;5;124m\"\u001b[39m\u001b[38;5;124mskip_parameter_validation\u001b[39m\u001b[38;5;124m\"\u001b[39m]\n\u001b[1;32m    185\u001b[0m \u001b[38;5;28;01mif\u001b[39;00m global_skip_validation:\n\u001b[0;32m--> 186\u001b[0m     \u001b[38;5;28;01mreturn\u001b[39;00m \u001b[43mfunc\u001b[49m\u001b[43m(\u001b[49m\u001b[38;5;241;43m*\u001b[39;49m\u001b[43margs\u001b[49m\u001b[43m,\u001b[49m\u001b[43m \u001b[49m\u001b[38;5;241;43m*\u001b[39;49m\u001b[38;5;241;43m*\u001b[39;49m\u001b[43mkwargs\u001b[49m\u001b[43m)\u001b[49m\n\u001b[1;32m    188\u001b[0m func_sig \u001b[38;5;241m=\u001b[39m signature(func)\n\u001b[1;32m    190\u001b[0m \u001b[38;5;66;03m# Map *args/**kwargs to the function signature\u001b[39;00m\n",
      "File \u001b[0;32m~/Documents/projects/RecSys-local/.venv/lib/python3.10/site-packages/sklearn/utils/extmath.py:523\u001b[0m, in \u001b[0;36mrandomized_svd\u001b[0;34m(M, n_components, n_oversamples, n_iter, power_iteration_normalizer, transpose, flip_sign, random_state, svd_lapack_driver)\u001b[0m\n\u001b[1;32m    519\u001b[0m \u001b[38;5;28;01mif\u001b[39;00m transpose:\n\u001b[1;32m    520\u001b[0m     \u001b[38;5;66;03m# this implementation is a bit faster with smaller shape[1]\u001b[39;00m\n\u001b[1;32m    521\u001b[0m     M \u001b[38;5;241m=\u001b[39m M\u001b[38;5;241m.\u001b[39mT\n\u001b[0;32m--> 523\u001b[0m Q \u001b[38;5;241m=\u001b[39m \u001b[43mrandomized_range_finder\u001b[49m\u001b[43m(\u001b[49m\n\u001b[1;32m    524\u001b[0m \u001b[43m    \u001b[49m\u001b[43mM\u001b[49m\u001b[43m,\u001b[49m\n\u001b[1;32m    525\u001b[0m \u001b[43m    \u001b[49m\u001b[43msize\u001b[49m\u001b[38;5;241;43m=\u001b[39;49m\u001b[43mn_random\u001b[49m\u001b[43m,\u001b[49m\n\u001b[1;32m    526\u001b[0m \u001b[43m    \u001b[49m\u001b[43mn_iter\u001b[49m\u001b[38;5;241;43m=\u001b[39;49m\u001b[43mn_iter\u001b[49m\u001b[43m,\u001b[49m\n\u001b[1;32m    527\u001b[0m \u001b[43m    \u001b[49m\u001b[43mpower_iteration_normalizer\u001b[49m\u001b[38;5;241;43m=\u001b[39;49m\u001b[43mpower_iteration_normalizer\u001b[49m\u001b[43m,\u001b[49m\n\u001b[1;32m    528\u001b[0m \u001b[43m    \u001b[49m\u001b[43mrandom_state\u001b[49m\u001b[38;5;241;43m=\u001b[39;49m\u001b[43mrandom_state\u001b[49m\u001b[43m,\u001b[49m\n\u001b[1;32m    529\u001b[0m \u001b[43m\u001b[49m\u001b[43m)\u001b[49m\n\u001b[1;32m    531\u001b[0m \u001b[38;5;66;03m# project M to the (k + p) dimensional space using the basis vectors\u001b[39;00m\n\u001b[1;32m    532\u001b[0m B \u001b[38;5;241m=\u001b[39m Q\u001b[38;5;241m.\u001b[39mT \u001b[38;5;241m@\u001b[39m M\n",
      "File \u001b[0;32m~/Documents/projects/RecSys-local/.venv/lib/python3.10/site-packages/sklearn/utils/extmath.py:341\u001b[0m, in \u001b[0;36mrandomized_range_finder\u001b[0;34m(A, size, n_iter, power_iteration_normalizer, random_state)\u001b[0m\n\u001b[1;32m    339\u001b[0m \u001b[38;5;28;01mfor\u001b[39;00m _ \u001b[38;5;129;01min\u001b[39;00m \u001b[38;5;28mrange\u001b[39m(n_iter):\n\u001b[1;32m    340\u001b[0m     Q, _ \u001b[38;5;241m=\u001b[39m normalizer(A \u001b[38;5;241m@\u001b[39m Q)\n\u001b[0;32m--> 341\u001b[0m     Q, _ \u001b[38;5;241m=\u001b[39m \u001b[43mnormalizer\u001b[49m\u001b[43m(\u001b[49m\u001b[43mA\u001b[49m\u001b[38;5;241;43m.\u001b[39;49m\u001b[43mT\u001b[49m\u001b[43m \u001b[49m\u001b[38;5;241;43m@\u001b[39;49m\u001b[43m \u001b[49m\u001b[43mQ\u001b[49m\u001b[43m)\u001b[49m\n\u001b[1;32m    343\u001b[0m \u001b[38;5;66;03m# Sample the range of A using by linear projection of Q\u001b[39;00m\n\u001b[1;32m    344\u001b[0m \u001b[38;5;66;03m# Extract an orthonormal basis\u001b[39;00m\n\u001b[1;32m    345\u001b[0m Q, _ \u001b[38;5;241m=\u001b[39m qr_normalizer(A \u001b[38;5;241m@\u001b[39m Q)\n",
      "File \u001b[0;32m~/Documents/projects/RecSys-local/.venv/lib/python3.10/site-packages/scipy/linalg/_decomp_lu.py:186\u001b[0m, in \u001b[0;36mlu\u001b[0;34m(a, permute_l, overwrite_a, check_finite, p_indices)\u001b[0m\n\u001b[1;32m    181\u001b[0m         \u001b[38;5;28;01mreturn\u001b[39;00m x\n\u001b[1;32m    182\u001b[0m     \u001b[38;5;28;01mraise\u001b[39;00m \u001b[38;5;167;01mValueError\u001b[39;00m(\u001b[38;5;124m'\u001b[39m\u001b[38;5;124millegal value in \u001b[39m\u001b[38;5;132;01m%d\u001b[39;00m\u001b[38;5;124mth argument of internal gesv|posv\u001b[39m\u001b[38;5;124m'\u001b[39m\n\u001b[1;32m    183\u001b[0m                      \u001b[38;5;241m%\u001b[39m \u001b[38;5;241m-\u001b[39minfo)\n\u001b[0;32m--> 186\u001b[0m \u001b[38;5;28;01mdef\u001b[39;00m \u001b[38;5;21mlu\u001b[39m(a, permute_l\u001b[38;5;241m=\u001b[39m\u001b[38;5;28;01mFalse\u001b[39;00m, overwrite_a\u001b[38;5;241m=\u001b[39m\u001b[38;5;28;01mFalse\u001b[39;00m, check_finite\u001b[38;5;241m=\u001b[39m\u001b[38;5;28;01mTrue\u001b[39;00m,\n\u001b[1;32m    187\u001b[0m        p_indices\u001b[38;5;241m=\u001b[39m\u001b[38;5;28;01mFalse\u001b[39;00m):\n\u001b[1;32m    188\u001b[0m \u001b[38;5;250m    \u001b[39m\u001b[38;5;124;03m\"\"\"\u001b[39;00m\n\u001b[1;32m    189\u001b[0m \u001b[38;5;124;03m    Compute LU decomposition of a matrix with partial pivoting.\u001b[39;00m\n\u001b[1;32m    190\u001b[0m \n\u001b[0;32m   (...)\u001b[0m\n\u001b[1;32m    280\u001b[0m \n\u001b[1;32m    281\u001b[0m \u001b[38;5;124;03m    \"\"\"\u001b[39;00m\n\u001b[1;32m    282\u001b[0m     a1 \u001b[38;5;241m=\u001b[39m np\u001b[38;5;241m.\u001b[39masarray_chkfinite(a) \u001b[38;5;28;01mif\u001b[39;00m check_finite \u001b[38;5;28;01melse\u001b[39;00m np\u001b[38;5;241m.\u001b[39masarray(a)\n",
      "\u001b[0;31mKeyboardInterrupt\u001b[0m: "
     ]
    }
   ],
   "source": [
    "# Collaborative Filtering (Item-Based)\n",
    "# Create a co-occurrence matrix\n",
    "item_cooccurrence_matrix = np.zeros((len(encoder.classes_), len(encoder.classes_)))\n",
    "\n",
    "for seq in encoded_train_sequences:\n",
    "    for i in range(len(seq)):\n",
    "        for j in range(i + 1, len(seq)):\n",
    "            item_cooccurrence_matrix[seq[i], seq[j]] += 1\n",
    "            item_cooccurrence_matrix[seq[j], seq[i]] += 1\n",
    "\n",
    "# Use TruncatedSVD for dimensionality reduction\n",
    "embedding_dim = 50  # Adjust as needed\n",
    "svd = TruncatedSVD(n_components=embedding_dim)\n",
    "item_embeddings = svd.fit_transform(item_cooccurrence_matrix)\n",
    "\n",
    "# Calculate cosine similarity matrix for embeddings\n",
    "item_sim_matrix = cosine_similarity(item_embeddings)\n",
    "\n",
    "def collaborative_filtering_predict(current_place):\n",
    "    if current_place in encoder.classes_:\n",
    "        current_idx = encoder.transform([current_place])[0]\n",
    "        similarity_scores = item_sim_matrix[current_idx]\n",
    "        most_similar_idx = similarity_scores.argsort()[-2]  # -2 to avoid the same item\n",
    "        return encoder.inverse_transform([most_similar_idx])[0]\n",
    "    else:\n",
    "        return None\n",
    "\n",
    "collab_preds = [collaborative_filtering_predict(encoder.inverse_transform([seq[-1]])[0]) for seq in encoded_test_sequences]\n",
    "print(\"Collaborative Filtering Complete\")\n",
    "# Print the first 5 collaborative filtering predictions\n",
    "\n",
    "print(\"First 5 collaborative filtering predictions:\")\n",
    "print(collab_preds[:5])"
   ]
  },
  {
   "cell_type": "markdown",
   "id": "ee2d20d0",
   "metadata": {},
   "source": [
    "### Markov Chains"
   ]
  },
  {
   "cell_type": "code",
   "execution_count": null,
   "id": "f3c7026a",
   "metadata": {},
   "outputs": [
    {
     "name": "stdout",
     "output_type": "stream",
     "text": [
      "Markov Complete\n",
      "First 5 Markov chain predictions:\n",
      "['5241_Cobra Island', '13260_Osterlich', '18417_Glubbdubdrib', '29319_Cobra Island', '64876_Fook Island']\n"
     ]
    }
   ],
   "source": [
    "# Markov Chains\n",
    "# Create transition pairs from the city_country chains\n",
    "transitions = []\n",
    "\n",
    "for chain in encoded_train_sequences:\n",
    "    for i in range(len(chain) - 1):\n",
    "        transitions.append((chain[i], chain[i + 1]))\n",
    "\n",
    "# Create a DataFrame for transitions\n",
    "transitions_df = pd.DataFrame(transitions, columns=['current_place', 'next_place'])\n",
    "\n",
    "# Calculate transition probabilities\n",
    "transition_counts = transitions_df.groupby('current_place')['next_place'].value_counts(normalize=True).unstack(fill_value=0)\n",
    "\n",
    "# Function to predict the next place based on the current place\n",
    "def markov_chain_predict(current_place):\n",
    "    if current_place in transition_counts.index:\n",
    "        return transition_counts.loc[current_place].idxmax()\n",
    "    else:\n",
    "        return None\n",
    "\n",
    "# Generate predictions using the Markov chain model\n",
    "markov_preds = [markov_chain_predict(seq[-1]) for seq in encoded_test_sequences]\n",
    "\n",
    "# Convert predictions back to original city_country labels\n",
    "markov_preds = [encoder.inverse_transform([pred])[0] if pred is not None else 'unknown' for pred in markov_preds]\n",
    "\n",
    "print(\"Markov Complete\")\n",
    "\n",
    "# Print the first 5 Markov chain predictions\n",
    "print(\"First 5 Markov chain predictions:\")\n",
    "print(markov_preds[:5])"
   ]
  },
  {
   "cell_type": "code",
   "execution_count": null,
   "id": "0c9f1056",
   "metadata": {},
   "outputs": [],
   "source": [
    "# Function to evaluate models\n",
    "def evaluate_model(y_true, y_pred):\n",
    "    y_true_encoded = encoder.transform(y_true)\n",
    "    y_pred_encoded = encoder.transform(y_pred)\n",
    "    accuracy = accuracy_score(y_true_encoded, y_pred_encoded)\n",
    "    precision = precision_score(y_true_encoded, y_pred_encoded, average='weighted', zero_division=1)\n",
    "    return accuracy, precision\n",
    "\n",
    "# Random Forest Model\n",
    "@delayed\n",
    "def train_rf(X_train, y_train, X_test):\n",
    "    rf_model = RandomForestClassifier(n_estimators=100, random_state=42)\n",
    "    rf_model.fit(X_train, y_train)\n",
    "    rf_preds = rf_model.predict(X_test)\n",
    "    rf_preds = encoder.inverse_transform(rf_preds)\n",
    "    return rf_preds\n",
    "\n",
    "# Gradient Boosting Model\n",
    "@delayed\n",
    "def train_gbm(X_train, y_train, X_test):\n",
    "    gbm_model = GradientBoostingClassifier(n_estimators=100, random_state=42)\n",
    "    gbm_model.fit(X_train, y_train)\n",
    "    gbm_preds = gbm_model.predict(X_test)\n",
    "    gbm_preds = encoder.inverse_transform(gbm_preds)\n",
    "    return gbm_preds\n",
    "\n",
    "# LSTM Model\n",
    "@delayed\n",
    "def train_lstm(X_train, y_train, X_test):\n",
    "    lstm_model = Sequential()\n",
    "    lstm_model.add(Embedding(input_dim=len(encoder.classes_), output_dim=50, input_length=X_train.shape[1]))\n",
    "    lstm_model.add(LSTM(100, return_sequences=False))\n",
    "    lstm_model.add(Dense(len(encoder.classes_), activation='softmax'))\n",
    "    lstm_model.compile(optimizer='adam', loss='sparse_categorical_crossentropy', metrics=['accuracy'])\n",
    "    lstm_model.fit(X_train, y_train, epochs=10, batch_size=64, validation_split=0.2)\n",
    "    lstm_preds = lstm_model.predict(X_test)\n",
    "    lstm_preds = np.argmax(lstm_preds, axis=1)\n",
    "    lstm_preds = encoder.inverse_transform(lstm_preds)\n",
    "    return lstm_preds"
   ]
  },
  {
   "cell_type": "code",
   "execution_count": null,
   "id": "3b1ad8c0",
   "metadata": {},
   "outputs": [
    {
     "ename": "NameError",
     "evalue": "name 'X_train' is not defined",
     "output_type": "error",
     "traceback": [
      "\u001b[0;31m---------------------------------------------------------------------------\u001b[0m",
      "\u001b[0;31mNameError\u001b[0m                                 Traceback (most recent call last)",
      "Cell \u001b[0;32mIn[4], line 2\u001b[0m\n\u001b[1;32m      1\u001b[0m \u001b[38;5;66;03m# Train and predict using Dask delayed functions\u001b[39;00m\n\u001b[0;32m----> 2\u001b[0m rf_preds \u001b[38;5;241m=\u001b[39m train_rf(\u001b[43mX_train\u001b[49m, y_train, X_test)\n\u001b[1;32m      3\u001b[0m gbm_preds \u001b[38;5;241m=\u001b[39m train_gbm(X_train, y_train, X_test)\n\u001b[1;32m      4\u001b[0m lstm_preds \u001b[38;5;241m=\u001b[39m train_lstm(X_train, y_train, X_test)\n",
      "\u001b[0;31mNameError\u001b[0m: name 'X_train' is not defined"
     ]
    }
   ],
   "source": [
    "# Train and predict using Dask delayed functions\n",
    "rf_preds, gbm_preds, lstm_preds = compute(train_rf(X_train, y_train, X_test), train_gbm(X_train, y_train, X_test), train_lstm(X_train, y_train, X_test))"
   ]
  },
  {
   "cell_type": "code",
   "execution_count": null,
   "id": "4af04408",
   "metadata": {},
   "outputs": [],
   "source": [
    "# Evaluate all models\n",
    "collab_accuracy, collab_precision = evaluate_model(encoder.inverse_transform(y_test), collab_preds)\n",
    "markov_accuracy, markov_precision = evaluate_model(encoder.inverse_transform(y_test), markov_preds)\n",
    "rf_accuracy, rf_precision = evaluate_model(encoder.inverse_transform(y_test), rf_preds)\n",
    "gbm_accuracy, gbm_precision = evaluate_model(encoder.inverse_transform(y_test), gbm_preds)\n",
    "lstm_accuracy, lstm_precision = evaluate_model(encoder.inverse_transform(y_test), lstm_preds)\n",
    "\n",
    "# Print the results\n",
    "print(f\"Collaborative Filtering - Accuracy: {collab_accuracy:.2f}, Precision: {collab_precision:.2f}\")\n",
    "print(f\"Markov Chains - Accuracy: {markov_accuracy:.2f}, Precision: {markov_precision:.2f}\")\n",
    "print(f\"Random Forest - Accuracy: {rf_accuracy:.2f}, Precision: {rf_precision:.2f}\")\n",
    "print(f\"Gradient Boosting - Accuracy: {gbm_accuracy:.2f}, Precision: {gbm_precision:.2f}\")\n",
    "print(f\"LSTM - Accuracy: {lstm_accuracy:.2f}, Precision: {lstm_precision:.2f}\")"
   ]
  },
  {
   "cell_type": "code",
   "execution_count": null,
   "id": "47f7cd24",
   "metadata": {},
   "outputs": [],
   "source": [
    "# Function to save predictions to CSV\n",
    "def save_predictions(predictions, filename, current_city):\n",
    "    preds_df = pd.DataFrame(predictions, columns=['predicted_next_city_country'])\n",
    "    preds_df['current_city_country'] = current_city\n",
    "    preds_df.to_csv(filename, index=False)\n",
    "    print(f'Predictions written to {filename}')\n",
    "\n",
    "# Prepare current city data for reference\n",
    "current_city = [encoder.inverse_transform([seq[-1]])[0] for seq in encoded_test_sequences]\n",
    "\n",
    "# Save the predictions for each model\n",
    "model_predictions = {\n",
    "    'collab_predictions.csv': collab_preds,\n",
    "    'markov_predictions.csv': markov_preds,\n",
    "    'rf_predictions.csv': rf_preds,\n",
    "    'gbm_predictions.csv': gbm_preds,\n",
    "    'lstm_predictions.csv': lstm_preds\n",
    "}\n",
    "\n",
    "for filename, preds in model_predictions.items():\n",
    "    save_predictions(preds, filename, current_city, encoded_test_sequences)"
   ]
  },
  {
   "cell_type": "markdown",
   "id": "25aae2ad",
   "metadata": {},
   "source": [
    "### Random Forest"
   ]
  },
  {
   "cell_type": "code",
   "execution_count": null,
   "id": "8db1ad16",
   "metadata": {},
   "outputs": [
    {
     "ename": "NameError",
     "evalue": "name 'X_train' is not defined",
     "output_type": "error",
     "traceback": [
      "\u001b[0;31m---------------------------------------------------------------------------\u001b[0m",
      "\u001b[0;31mNameError\u001b[0m                                 Traceback (most recent call last)",
      "Cell \u001b[0;32mIn[1], line 5\u001b[0m\n\u001b[1;32m      3\u001b[0m \u001b[38;5;66;03m# Create and train the random forest model\u001b[39;00m\n\u001b[1;32m      4\u001b[0m rf_model \u001b[38;5;241m=\u001b[39m RandomForestClassifier(n_estimators\u001b[38;5;241m=\u001b[39m\u001b[38;5;241m100\u001b[39m, random_state\u001b[38;5;241m=\u001b[39m\u001b[38;5;241m42\u001b[39m)\n\u001b[0;32m----> 5\u001b[0m rf_model\u001b[38;5;241m.\u001b[39mfit(\u001b[43mX_train\u001b[49m, y_train)\n\u001b[1;32m      7\u001b[0m \u001b[38;5;66;03m# Predict the next city_country\u001b[39;00m\n\u001b[1;32m      8\u001b[0m rf_preds \u001b[38;5;241m=\u001b[39m rf_model\u001b[38;5;241m.\u001b[39mpredict(X_test)\n",
      "\u001b[0;31mNameError\u001b[0m: name 'X_train' is not defined"
     ]
    }
   ],
   "source": [
    "# from sklearn.ensemble import RandomForestClassifier\n",
    "\n",
    "# # Create and train the random forest model\n",
    "# rf_model = RandomForestClassifier(n_estimators=100, random_state=42)\n",
    "# rf_model.fit(X_train, y_train)\n",
    "\n",
    "# # Predict the next city_country\n",
    "# rf_preds = rf_model.predict(X_test)\n",
    "# rf_preds = encoder.inverse_transform(rf_preds)\n",
    "\n",
    "# print(\"Random Forest Complete\")\n"
   ]
  },
  {
   "cell_type": "markdown",
   "id": "1a1014f0",
   "metadata": {},
   "source": [
    "### Gradient Boost"
   ]
  },
  {
   "cell_type": "code",
   "execution_count": null,
   "id": "d92c0779",
   "metadata": {},
   "outputs": [
    {
     "ename": "ValueError",
     "evalue": "X has 21 features, but GradientBoostingClassifier is expecting 20 features as input.",
     "output_type": "error",
     "traceback": [
      "\u001b[0;31m---------------------------------------------------------------------------\u001b[0m",
      "\u001b[0;31mValueError\u001b[0m                                Traceback (most recent call last)",
      "Cell \u001b[0;32mIn[10], line 8\u001b[0m\n\u001b[1;32m      5\u001b[0m gbm_model\u001b[38;5;241m.\u001b[39mfit(X_train, y_train)\n\u001b[1;32m      7\u001b[0m \u001b[38;5;66;03m# Predict the next city_country\u001b[39;00m\n\u001b[0;32m----> 8\u001b[0m gbm_preds \u001b[38;5;241m=\u001b[39m gbm_model\u001b[38;5;241m.\u001b[39mpredict(X_test)\n\u001b[1;32m      9\u001b[0m gbm_preds \u001b[38;5;241m=\u001b[39m encoder\u001b[38;5;241m.\u001b[39minverse_transform(gbm_preds)\n\u001b[1;32m     11\u001b[0m \u001b[38;5;28mprint\u001b[39m(\u001b[38;5;124m\"\u001b[39m\u001b[38;5;124mGBM Complete\u001b[39m\u001b[38;5;124m\"\u001b[39m)\n",
      "File \u001b[0;32m/opt/anaconda3/lib/python3.11/site-packages/sklearn/ensemble/_gb.py:1308\u001b[0m, in \u001b[0;36mGradientBoostingClassifier.predict\u001b[0;34m(self, X)\u001b[0m\n\u001b[1;32m   1293\u001b[0m \u001b[38;5;28;01mdef\u001b[39;00m \u001b[38;5;21mpredict\u001b[39m(\u001b[38;5;28mself\u001b[39m, X):\n\u001b[1;32m   1294\u001b[0m \u001b[38;5;250m    \u001b[39m\u001b[38;5;124;03m\"\"\"Predict class for X.\u001b[39;00m\n\u001b[1;32m   1295\u001b[0m \n\u001b[1;32m   1296\u001b[0m \u001b[38;5;124;03m    Parameters\u001b[39;00m\n\u001b[0;32m   (...)\u001b[0m\n\u001b[1;32m   1306\u001b[0m \u001b[38;5;124;03m        The predicted values.\u001b[39;00m\n\u001b[1;32m   1307\u001b[0m \u001b[38;5;124;03m    \"\"\"\u001b[39;00m\n\u001b[0;32m-> 1308\u001b[0m     raw_predictions \u001b[38;5;241m=\u001b[39m \u001b[38;5;28mself\u001b[39m\u001b[38;5;241m.\u001b[39mdecision_function(X)\n\u001b[1;32m   1309\u001b[0m     encoded_labels \u001b[38;5;241m=\u001b[39m \u001b[38;5;28mself\u001b[39m\u001b[38;5;241m.\u001b[39m_loss\u001b[38;5;241m.\u001b[39m_raw_prediction_to_decision(raw_predictions)\n\u001b[1;32m   1310\u001b[0m     \u001b[38;5;28;01mreturn\u001b[39;00m \u001b[38;5;28mself\u001b[39m\u001b[38;5;241m.\u001b[39mclasses_\u001b[38;5;241m.\u001b[39mtake(encoded_labels, axis\u001b[38;5;241m=\u001b[39m\u001b[38;5;241m0\u001b[39m)\n",
      "File \u001b[0;32m/opt/anaconda3/lib/python3.11/site-packages/sklearn/ensemble/_gb.py:1261\u001b[0m, in \u001b[0;36mGradientBoostingClassifier.decision_function\u001b[0;34m(self, X)\u001b[0m\n\u001b[1;32m   1242\u001b[0m \u001b[38;5;28;01mdef\u001b[39;00m \u001b[38;5;21mdecision_function\u001b[39m(\u001b[38;5;28mself\u001b[39m, X):\n\u001b[1;32m   1243\u001b[0m \u001b[38;5;250m    \u001b[39m\u001b[38;5;124;03m\"\"\"Compute the decision function of ``X``.\u001b[39;00m\n\u001b[1;32m   1244\u001b[0m \n\u001b[1;32m   1245\u001b[0m \u001b[38;5;124;03m    Parameters\u001b[39;00m\n\u001b[0;32m   (...)\u001b[0m\n\u001b[1;32m   1259\u001b[0m \u001b[38;5;124;03m        array of shape (n_samples,).\u001b[39;00m\n\u001b[1;32m   1260\u001b[0m \u001b[38;5;124;03m    \"\"\"\u001b[39;00m\n\u001b[0;32m-> 1261\u001b[0m     X \u001b[38;5;241m=\u001b[39m \u001b[38;5;28mself\u001b[39m\u001b[38;5;241m.\u001b[39m_validate_data(\n\u001b[1;32m   1262\u001b[0m         X, dtype\u001b[38;5;241m=\u001b[39mDTYPE, order\u001b[38;5;241m=\u001b[39m\u001b[38;5;124m\"\u001b[39m\u001b[38;5;124mC\u001b[39m\u001b[38;5;124m\"\u001b[39m, accept_sparse\u001b[38;5;241m=\u001b[39m\u001b[38;5;124m\"\u001b[39m\u001b[38;5;124mcsr\u001b[39m\u001b[38;5;124m\"\u001b[39m, reset\u001b[38;5;241m=\u001b[39m\u001b[38;5;28;01mFalse\u001b[39;00m\n\u001b[1;32m   1263\u001b[0m     )\n\u001b[1;32m   1264\u001b[0m     raw_predictions \u001b[38;5;241m=\u001b[39m \u001b[38;5;28mself\u001b[39m\u001b[38;5;241m.\u001b[39m_raw_predict(X)\n\u001b[1;32m   1265\u001b[0m     \u001b[38;5;28;01mif\u001b[39;00m raw_predictions\u001b[38;5;241m.\u001b[39mshape[\u001b[38;5;241m1\u001b[39m] \u001b[38;5;241m==\u001b[39m \u001b[38;5;241m1\u001b[39m:\n",
      "File \u001b[0;32m/opt/anaconda3/lib/python3.11/site-packages/sklearn/base.py:588\u001b[0m, in \u001b[0;36mBaseEstimator._validate_data\u001b[0;34m(self, X, y, reset, validate_separately, **check_params)\u001b[0m\n\u001b[1;32m    585\u001b[0m     out \u001b[38;5;241m=\u001b[39m X, y\n\u001b[1;32m    587\u001b[0m \u001b[38;5;28;01mif\u001b[39;00m \u001b[38;5;129;01mnot\u001b[39;00m no_val_X \u001b[38;5;129;01mand\u001b[39;00m check_params\u001b[38;5;241m.\u001b[39mget(\u001b[38;5;124m\"\u001b[39m\u001b[38;5;124mensure_2d\u001b[39m\u001b[38;5;124m\"\u001b[39m, \u001b[38;5;28;01mTrue\u001b[39;00m):\n\u001b[0;32m--> 588\u001b[0m     \u001b[38;5;28mself\u001b[39m\u001b[38;5;241m.\u001b[39m_check_n_features(X, reset\u001b[38;5;241m=\u001b[39mreset)\n\u001b[1;32m    590\u001b[0m \u001b[38;5;28;01mreturn\u001b[39;00m out\n",
      "File \u001b[0;32m/opt/anaconda3/lib/python3.11/site-packages/sklearn/base.py:389\u001b[0m, in \u001b[0;36mBaseEstimator._check_n_features\u001b[0;34m(self, X, reset)\u001b[0m\n\u001b[1;32m    386\u001b[0m     \u001b[38;5;28;01mreturn\u001b[39;00m\n\u001b[1;32m    388\u001b[0m \u001b[38;5;28;01mif\u001b[39;00m n_features \u001b[38;5;241m!=\u001b[39m \u001b[38;5;28mself\u001b[39m\u001b[38;5;241m.\u001b[39mn_features_in_:\n\u001b[0;32m--> 389\u001b[0m     \u001b[38;5;28;01mraise\u001b[39;00m \u001b[38;5;167;01mValueError\u001b[39;00m(\n\u001b[1;32m    390\u001b[0m         \u001b[38;5;124mf\u001b[39m\u001b[38;5;124m\"\u001b[39m\u001b[38;5;124mX has \u001b[39m\u001b[38;5;132;01m{\u001b[39;00mn_features\u001b[38;5;132;01m}\u001b[39;00m\u001b[38;5;124m features, but \u001b[39m\u001b[38;5;132;01m{\u001b[39;00m\u001b[38;5;28mself\u001b[39m\u001b[38;5;241m.\u001b[39m\u001b[38;5;18m__class__\u001b[39m\u001b[38;5;241m.\u001b[39m\u001b[38;5;18m__name__\u001b[39m\u001b[38;5;132;01m}\u001b[39;00m\u001b[38;5;124m \u001b[39m\u001b[38;5;124m\"\u001b[39m\n\u001b[1;32m    391\u001b[0m         \u001b[38;5;124mf\u001b[39m\u001b[38;5;124m\"\u001b[39m\u001b[38;5;124mis expecting \u001b[39m\u001b[38;5;132;01m{\u001b[39;00m\u001b[38;5;28mself\u001b[39m\u001b[38;5;241m.\u001b[39mn_features_in_\u001b[38;5;132;01m}\u001b[39;00m\u001b[38;5;124m features as input.\u001b[39m\u001b[38;5;124m\"\u001b[39m\n\u001b[1;32m    392\u001b[0m     )\n",
      "\u001b[0;31mValueError\u001b[0m: X has 21 features, but GradientBoostingClassifier is expecting 20 features as input."
     ]
    }
   ],
   "source": [
    "# from sklearn.ensemble import GradientBoostingClassifier\n",
    "\n",
    "# # Create and train the gradient boosting model\n",
    "# gbm_model = GradientBoostingClassifier(n_estimators=100, random_state=42)\n",
    "# gbm_model.fit(X_train, y_train)\n",
    "\n",
    "# # Predict the next city_country\n",
    "# gbm_preds = gbm_model.predict(X_test)\n",
    "# gbm_preds = encoder.inverse_transform(gbm_preds)\n",
    "\n",
    "# print(\"GBM Complete\")"
   ]
  },
  {
   "cell_type": "markdown",
   "id": "716cd7a1",
   "metadata": {},
   "source": [
    "### Recurrent Neural Networks (RNN) - LSTM"
   ]
  },
  {
   "cell_type": "code",
   "execution_count": null,
   "id": "a7cda796",
   "metadata": {},
   "outputs": [],
   "source": [
    "# # Define the LSTM model\n",
    "# lstm_model = Sequential()\n",
    "# lstm_model.add(Embedding(input_dim=len(encoder.classes_), output_dim=50, input_length=X_train.shape[1]))\n",
    "# lstm_model.add(LSTM(100, return_sequences=False))\n",
    "# lstm_model.add(Dense(len(encoder.classes_), activation='softmax'))\n",
    "\n",
    "# # Compile the model\n",
    "# lstm_model.compile(optimizer='adam', loss='sparse_categorical_crossentropy', metrics=['accuracy'])\n",
    "\n",
    "# # Train the model\n",
    "# lstm_model.fit(X_train, y_train, epochs=10, batch_size=64, validation_split=0.2)\n",
    "\n",
    "# # Predict the next city_country\n",
    "# lstm_preds = lstm_model.predict(X_test)\n",
    "# lstm_preds = np.argmax(lstm_preds, axis=1)\n",
    "# lstm_preds = encoder.inverse_transform(lstm_preds)\n",
    "\n",
    "# print(\"LSTM Complete\")\n"
   ]
  },
  {
   "cell_type": "markdown",
   "id": "0d0427a4",
   "metadata": {},
   "source": [
    "### Model Comparison"
   ]
  },
  {
   "cell_type": "code",
   "execution_count": null,
   "id": "84261b0c",
   "metadata": {},
   "outputs": [
    {
     "ename": "ValueError",
     "evalue": "y contains previously unseen labels: '3452'",
     "output_type": "error",
     "traceback": [
      "\u001b[0;31m---------------------------------------------------------------------------\u001b[0m",
      "\u001b[0;31mKeyError\u001b[0m                                  Traceback (most recent call last)",
      "File \u001b[0;32m/opt/anaconda3/lib/python3.11/site-packages/sklearn/utils/_encode.py:224\u001b[0m, in \u001b[0;36m_encode\u001b[0;34m(values, uniques, check_unknown)\u001b[0m\n\u001b[1;32m    223\u001b[0m \u001b[38;5;28;01mtry\u001b[39;00m:\n\u001b[0;32m--> 224\u001b[0m     \u001b[38;5;28;01mreturn\u001b[39;00m _map_to_integer(values, uniques)\n\u001b[1;32m    225\u001b[0m \u001b[38;5;28;01mexcept\u001b[39;00m \u001b[38;5;167;01mKeyError\u001b[39;00m \u001b[38;5;28;01mas\u001b[39;00m e:\n",
      "File \u001b[0;32m/opt/anaconda3/lib/python3.11/site-packages/sklearn/utils/_encode.py:164\u001b[0m, in \u001b[0;36m_map_to_integer\u001b[0;34m(values, uniques)\u001b[0m\n\u001b[1;32m    163\u001b[0m table \u001b[38;5;241m=\u001b[39m _nandict({val: i \u001b[38;5;28;01mfor\u001b[39;00m i, val \u001b[38;5;129;01min\u001b[39;00m \u001b[38;5;28menumerate\u001b[39m(uniques)})\n\u001b[0;32m--> 164\u001b[0m \u001b[38;5;28;01mreturn\u001b[39;00m np\u001b[38;5;241m.\u001b[39marray([table[v] \u001b[38;5;28;01mfor\u001b[39;00m v \u001b[38;5;129;01min\u001b[39;00m values])\n",
      "File \u001b[0;32m/opt/anaconda3/lib/python3.11/site-packages/sklearn/utils/_encode.py:164\u001b[0m, in \u001b[0;36m<listcomp>\u001b[0;34m(.0)\u001b[0m\n\u001b[1;32m    163\u001b[0m table \u001b[38;5;241m=\u001b[39m _nandict({val: i \u001b[38;5;28;01mfor\u001b[39;00m i, val \u001b[38;5;129;01min\u001b[39;00m \u001b[38;5;28menumerate\u001b[39m(uniques)})\n\u001b[0;32m--> 164\u001b[0m \u001b[38;5;28;01mreturn\u001b[39;00m np\u001b[38;5;241m.\u001b[39marray([table[v] \u001b[38;5;28;01mfor\u001b[39;00m v \u001b[38;5;129;01min\u001b[39;00m values])\n",
      "File \u001b[0;32m/opt/anaconda3/lib/python3.11/site-packages/sklearn/utils/_encode.py:158\u001b[0m, in \u001b[0;36m_nandict.__missing__\u001b[0;34m(self, key)\u001b[0m\n\u001b[1;32m    157\u001b[0m     \u001b[38;5;28;01mreturn\u001b[39;00m \u001b[38;5;28mself\u001b[39m\u001b[38;5;241m.\u001b[39mnan_value\n\u001b[0;32m--> 158\u001b[0m \u001b[38;5;28;01mraise\u001b[39;00m \u001b[38;5;167;01mKeyError\u001b[39;00m(key)\n",
      "\u001b[0;31mKeyError\u001b[0m: '3452'",
      "\nDuring handling of the above exception, another exception occurred:\n",
      "\u001b[0;31mValueError\u001b[0m                                Traceback (most recent call last)",
      "Cell \u001b[0;32mIn[13], line 11\u001b[0m\n\u001b[1;32m      7\u001b[0m     \u001b[38;5;28;01mreturn\u001b[39;00m accuracy, precision\n\u001b[1;32m      9\u001b[0m \u001b[38;5;66;03m# Evaluate all models\u001b[39;00m\n\u001b[1;32m     10\u001b[0m \u001b[38;5;66;03m#collab_accuracy, collab_precision = evaluate_model(y_test, collab_preds)\u001b[39;00m\n\u001b[0;32m---> 11\u001b[0m markov_accuracy, markov_precision \u001b[38;5;241m=\u001b[39m evaluate_model(y_test, markov_preds)\n\u001b[1;32m     12\u001b[0m \u001b[38;5;66;03m#rf_accuracy, rf_precision = evaluate_model(y_test, rf_preds)\u001b[39;00m\n\u001b[1;32m     13\u001b[0m \u001b[38;5;66;03m#gbm_accuracy, gbm_precision = evaluate_model(y_test, gbm_preds)\u001b[39;00m\n\u001b[1;32m     14\u001b[0m \u001b[38;5;66;03m#lstm_accuracy, lstm_precision = evaluate_model(y_test, lstm_preds)\u001b[39;00m\n\u001b[1;32m     15\u001b[0m \n\u001b[1;32m     16\u001b[0m \u001b[38;5;66;03m# Print the results\u001b[39;00m\n\u001b[1;32m     17\u001b[0m \u001b[38;5;66;03m#print(f\"Collaborative Filtering - Accuracy: {collab_accuracy:.2f}, Precision: {collab_precision:.2f}\")\u001b[39;00m\n\u001b[1;32m     18\u001b[0m \u001b[38;5;28mprint\u001b[39m(\u001b[38;5;124mf\u001b[39m\u001b[38;5;124m\"\u001b[39m\u001b[38;5;124mMarkov Chains - Accuracy: \u001b[39m\u001b[38;5;132;01m{\u001b[39;00mmarkov_accuracy\u001b[38;5;132;01m:\u001b[39;00m\u001b[38;5;124m.2f\u001b[39m\u001b[38;5;132;01m}\u001b[39;00m\u001b[38;5;124m, Precision: \u001b[39m\u001b[38;5;132;01m{\u001b[39;00mmarkov_precision\u001b[38;5;132;01m:\u001b[39;00m\u001b[38;5;124m.2f\u001b[39m\u001b[38;5;132;01m}\u001b[39;00m\u001b[38;5;124m\"\u001b[39m)\n",
      "Cell \u001b[0;32mIn[13], line 3\u001b[0m, in \u001b[0;36mevaluate_model\u001b[0;34m(y_true, y_pred)\u001b[0m\n\u001b[1;32m      2\u001b[0m \u001b[38;5;28;01mdef\u001b[39;00m \u001b[38;5;21mevaluate_model\u001b[39m(y_true, y_pred):\n\u001b[0;32m----> 3\u001b[0m     y_true_encoded \u001b[38;5;241m=\u001b[39m encoder\u001b[38;5;241m.\u001b[39mtransform(y_true)\n\u001b[1;32m      4\u001b[0m     y_pred_encoded \u001b[38;5;241m=\u001b[39m encoder\u001b[38;5;241m.\u001b[39mtransform(y_pred)\n\u001b[1;32m      5\u001b[0m     accuracy \u001b[38;5;241m=\u001b[39m accuracy_score(y_true_encoded, y_pred_encoded)\n",
      "File \u001b[0;32m/opt/anaconda3/lib/python3.11/site-packages/sklearn/utils/_set_output.py:140\u001b[0m, in \u001b[0;36m_wrap_method_output.<locals>.wrapped\u001b[0;34m(self, X, *args, **kwargs)\u001b[0m\n\u001b[1;32m    138\u001b[0m \u001b[38;5;129m@wraps\u001b[39m(f)\n\u001b[1;32m    139\u001b[0m \u001b[38;5;28;01mdef\u001b[39;00m \u001b[38;5;21mwrapped\u001b[39m(\u001b[38;5;28mself\u001b[39m, X, \u001b[38;5;241m*\u001b[39margs, \u001b[38;5;241m*\u001b[39m\u001b[38;5;241m*\u001b[39mkwargs):\n\u001b[0;32m--> 140\u001b[0m     data_to_wrap \u001b[38;5;241m=\u001b[39m f(\u001b[38;5;28mself\u001b[39m, X, \u001b[38;5;241m*\u001b[39margs, \u001b[38;5;241m*\u001b[39m\u001b[38;5;241m*\u001b[39mkwargs)\n\u001b[1;32m    141\u001b[0m     \u001b[38;5;28;01mif\u001b[39;00m \u001b[38;5;28misinstance\u001b[39m(data_to_wrap, \u001b[38;5;28mtuple\u001b[39m):\n\u001b[1;32m    142\u001b[0m         \u001b[38;5;66;03m# only wrap the first output for cross decomposition\u001b[39;00m\n\u001b[1;32m    143\u001b[0m         \u001b[38;5;28;01mreturn\u001b[39;00m (\n\u001b[1;32m    144\u001b[0m             _wrap_data_with_container(method, data_to_wrap[\u001b[38;5;241m0\u001b[39m], X, \u001b[38;5;28mself\u001b[39m),\n\u001b[1;32m    145\u001b[0m             \u001b[38;5;241m*\u001b[39mdata_to_wrap[\u001b[38;5;241m1\u001b[39m:],\n\u001b[1;32m    146\u001b[0m         )\n",
      "File \u001b[0;32m/opt/anaconda3/lib/python3.11/site-packages/sklearn/preprocessing/_label.py:139\u001b[0m, in \u001b[0;36mLabelEncoder.transform\u001b[0;34m(self, y)\u001b[0m\n\u001b[1;32m    136\u001b[0m \u001b[38;5;28;01mif\u001b[39;00m _num_samples(y) \u001b[38;5;241m==\u001b[39m \u001b[38;5;241m0\u001b[39m:\n\u001b[1;32m    137\u001b[0m     \u001b[38;5;28;01mreturn\u001b[39;00m np\u001b[38;5;241m.\u001b[39marray([])\n\u001b[0;32m--> 139\u001b[0m \u001b[38;5;28;01mreturn\u001b[39;00m _encode(y, uniques\u001b[38;5;241m=\u001b[39m\u001b[38;5;28mself\u001b[39m\u001b[38;5;241m.\u001b[39mclasses_)\n",
      "File \u001b[0;32m/opt/anaconda3/lib/python3.11/site-packages/sklearn/utils/_encode.py:226\u001b[0m, in \u001b[0;36m_encode\u001b[0;34m(values, uniques, check_unknown)\u001b[0m\n\u001b[1;32m    224\u001b[0m         \u001b[38;5;28;01mreturn\u001b[39;00m _map_to_integer(values, uniques)\n\u001b[1;32m    225\u001b[0m     \u001b[38;5;28;01mexcept\u001b[39;00m \u001b[38;5;167;01mKeyError\u001b[39;00m \u001b[38;5;28;01mas\u001b[39;00m e:\n\u001b[0;32m--> 226\u001b[0m         \u001b[38;5;28;01mraise\u001b[39;00m \u001b[38;5;167;01mValueError\u001b[39;00m(\u001b[38;5;124mf\u001b[39m\u001b[38;5;124m\"\u001b[39m\u001b[38;5;124my contains previously unseen labels: \u001b[39m\u001b[38;5;132;01m{\u001b[39;00m\u001b[38;5;28mstr\u001b[39m(e)\u001b[38;5;132;01m}\u001b[39;00m\u001b[38;5;124m\"\u001b[39m)\n\u001b[1;32m    227\u001b[0m \u001b[38;5;28;01melse\u001b[39;00m:\n\u001b[1;32m    228\u001b[0m     \u001b[38;5;28;01mif\u001b[39;00m check_unknown:\n",
      "\u001b[0;31mValueError\u001b[0m: y contains previously unseen labels: '3452'"
     ]
    }
   ],
   "source": [
    "# # Helper function to evaluate models\n",
    "# def evaluate_model(y_true, y_pred):\n",
    "#     y_true_encoded = encoder.transform(y_true)\n",
    "#     y_pred_encoded = encoder.transform(y_pred)\n",
    "#     accuracy = accuracy_score(y_true_encoded, y_pred_encoded)\n",
    "#     precision = precision_score(y_true_encoded, y_pred_encoded, average='weighted', zero_division=1)\n",
    "#     return accuracy, precision\n",
    "\n",
    "\n",
    "# # Evaluate all models\n",
    "# #collab_accuracy, collab_precision = evaluate_model(y_test, collab_preds)\n",
    "# markov_accuracy, markov_precision = evaluate_model(y_test, markov_preds)\n",
    "# #rf_accuracy, rf_precision = evaluate_model(y_test, rf_preds)\n",
    "# #gbm_accuracy, gbm_precision = evaluate_model(y_test, gbm_preds)\n",
    "# #lstm_accuracy, lstm_precision = evaluate_model(y_test, lstm_preds)\n",
    "\n",
    "# # Print the results\n",
    "# #print(f\"Collaborative Filtering - Accuracy: {collab_accuracy:.2f}, Precision: {collab_precision:.2f}\")\n",
    "# print(f\"Markov Chains - Accuracy: {markov_accuracy:.2f}, Precision: {markov_precision:.2f}\")\n",
    "# #print(f\"Random Forest - Accuracy: {rf_accuracy:.2f}, Precision: {rf_precision:.2f}\")\n",
    "# #print(f\"Gradient Boosting - Accuracy: {gbm_accuracy:.2f}, Precision: {gbm_precision:.2f}\")\n",
    "# #print(f\"LSTM - Accuracy: {lstm_accuracy:.2f}, Precision: {lstm_precision:.2f}\")\n"
   ]
  },
  {
   "cell_type": "code",
   "execution_count": null,
   "id": "9b95c1e6",
   "metadata": {},
   "outputs": [],
   "source": [
    "# # Convert collab_preds to DataFrame\n",
    "# collab_preds_df = pd.DataFrame(collab_preds, columns=['predicted_next_city_country'])\n",
    "\n",
    "# # Optionally, add a column for the original test sequences for reference\n",
    "# # Assuming you want to add the last element from each sequence as the current city\n",
    "# current_city = [encoder.inverse_transform([seq[-1]])[0] for seq in encoded_test_sequences]\n",
    "# collab_preds_df['current_city_country'] = current_city\n",
    "\n",
    "# # Save the DataFrame to a CSV file\n",
    "# output_file = 'collab_predictions.csv'\n",
    "# collab_preds_df.to_csv(output_file, index=False)\n",
    "# print(f'Predictions written to {output_file}')"
   ]
  },
  {
   "cell_type": "code",
   "execution_count": null,
   "id": "59cea716",
   "metadata": {},
   "outputs": [],
   "source": [
    "# # Convert markov_preds to DataFrame\n",
    "# markov_preds_df = pd.DataFrame(markov_preds, columns=['predicted_next_city_country'])\n",
    "\n",
    "# # Optionally, add a column for the original test sequences for reference\n",
    "# # Assuming you want to add the last element from each sequence as the current city\n",
    "# current_city = [encoder.inverse_transform([seq[-1]])[0] for seq in encoded_test_sequences]\n",
    "# markov_preds_df['current_city_country'] = current_city\n",
    "\n",
    "# # Save the DataFrame to a CSV file\n",
    "# output_file = 'markov_predictions.csv'\n",
    "# markov_preds_df.to_csv(output_file, index=False)\n",
    "# print(f'Predictions written to {output_file}')\n"
   ]
  },
  {
   "cell_type": "code",
   "execution_count": null,
   "id": "52762667",
   "metadata": {},
   "outputs": [],
   "source": [
    "\n",
    "# # Convert gbm_preds to DataFrame\n",
    "# gbm_preds_df = pd.DataFrame(gbm_preds, columns=['predicted_next_city_country'])\n",
    "\n",
    "# # Optionally, add a column for the original test sequences for reference\n",
    "# # Assuming you want to add the last element from each sequence as the current city\n",
    "# current_city = [encoder.inverse_transform([seq[-1]])[0] for seq in encoded_test_sequences]\n",
    "# gbm_preds_df['current_city_country'] = current_city\n",
    "\n",
    "# # Save the DataFrame to a CSV file\n",
    "# output_file = 'gbm_predictions.csv'\n",
    "# gbm_preds_df.to_csv(output_file, index=False)\n",
    "# print(f'Predictions written to {output_file}')\n"
   ]
  },
  {
   "cell_type": "code",
   "execution_count": null,
   "id": "b755d988",
   "metadata": {},
   "outputs": [],
   "source": [
    "# # Convert lstm_preds to DataFrame\n",
    "# lstm_preds_df = pd.DataFrame(lstm_preds, columns=['predicted_next_city_country'])\n",
    "\n",
    "# # Optionally, add a column for the original test sequences for reference\n",
    "# # Assuming you want to add the last element from each sequence as the current city\n",
    "# current_city = [encoder.inverse_transform([seq[-1]])[0] for seq in encoded_test_sequences]\n",
    "# lstm_preds_df['current_city_country'] = current_city\n",
    "\n",
    "# # Save the DataFrame to a CSV file\n",
    "# output_file = 'lstm_predictions.csv'\n",
    "# lstm_preds_df.to_csv(output_file, index=False)\n",
    "# print(f'Predictions written to {output_file}')"
   ]
  },
  {
   "cell_type": "code",
   "execution_count": null,
   "id": "916b0d57",
   "metadata": {},
   "outputs": [],
   "source": []
  }
 ],
 "metadata": {
  "kernelspec": {
   "display_name": "Python 3 (ipykernel)",
   "language": "python",
   "name": "python3"
  },
  "language_info": {
   "codemirror_mode": {
    "name": "ipython",
    "version": 3
   },
   "file_extension": ".py",
   "mimetype": "text/x-python",
   "name": "python",
   "nbconvert_exporter": "python",
   "pygments_lexer": "ipython3",
   "version": "3.10.12"
  }
 },
 "nbformat": 4,
 "nbformat_minor": 5
}
