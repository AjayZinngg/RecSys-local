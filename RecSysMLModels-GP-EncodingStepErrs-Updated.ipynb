{
 "cells": [
  {
   "cell_type": "markdown",
   "id": "12d70e13",
   "metadata": {},
   "source": [
    "#### We'll will compare the following models for their accuracy and precision. \n",
    "\n",
    "1. Collaborative Filtering (Item-Based)\n",
    "2. Markov Chains\n",
    "3. Random Forest\n",
    "4. Gradient Boosting Machine\n",
    "5. Recurrent Neural Networks (RNN) - LSTM\n",
    "\n",
    "To get us started we will set up the preprocessing and helper functions that will be used by all models."
   ]
  },
  {
   "cell_type": "code",
   "execution_count": 1,
   "id": "fd41089e",
   "metadata": {},
   "outputs": [
    {
     "name": "stderr",
     "output_type": "stream",
     "text": [
      "2024-05-23 09:08:36.996788: I tensorflow/core/platform/cpu_feature_guard.cc:210] This TensorFlow binary is optimized to use available CPU instructions in performance-critical operations.\n",
      "To enable the following instructions: AVX2 FMA, in other operations, rebuild TensorFlow with the appropriate compiler flags.\n",
      "2024-05-23 09:08:38.384591: W tensorflow/compiler/tf2tensorrt/utils/py_utils.cc:38] TF-TRT Warning: Could not find TensorRT\n"
     ]
    }
   ],
   "source": [
    "import dask.dataframe as dd\n",
    "import pandas as pd\n",
    "import numpy as np\n",
    "from sklearn.preprocessing import LabelEncoder\n",
    "from keras.preprocessing.sequence import pad_sequences\n",
    "from tqdm import tqdm\n",
    "from sklearn.metrics import accuracy_score, precision_score\n",
    "from sklearn.ensemble import RandomForestClassifier, GradientBoostingClassifier\n",
    "from keras.models import Sequential\n",
    "from keras.layers import Embedding, LSTM, Dense\n",
    "from dask import delayed, compute\n",
    "from sklearn.metrics.pairwise import cosine_similarity\n",
    "from sklearn.decomposition import TruncatedSVD\n",
    "from dask.diagnostics import ProgressBar\n",
    "\n",
    "\n"
   ]
  },
  {
   "cell_type": "code",
   "execution_count": 2,
   "id": "e9dc5b31",
   "metadata": {},
   "outputs": [
    {
     "name": "stdout",
     "output_type": "stream",
     "text": [
      "[                                        ] | 0% Completed | 205.61 us"
     ]
    },
    {
     "name": "stderr",
     "output_type": "stream",
     "text": [
      "/tmp/ipykernel_5972/4116437476.py:37: UserWarning: `meta` is not specified, inferred from partial data. Please provide `meta` if the result is unexpected.\n",
      "  Before: .apply(func)\n",
      "  After:  .apply(func, meta={'x': 'f8', 'y': 'f8'}) for dataframe result\n",
      "  or:     .apply(func, meta=('x', 'f8'))            for series result\n",
      "  train_sequences = train_data.groupby('utrip_id')['city_country'].apply(list).compute().tolist()\n"
     ]
    },
    {
     "name": "stdout",
     "output_type": "stream",
     "text": [
      "[########################################] | 100% Completed | 2.02 sms\n",
      "[######                                  ] | 16% Completed | 103.73 ms"
     ]
    },
    {
     "name": "stderr",
     "output_type": "stream",
     "text": [
      "/tmp/ipykernel_5972/4116437476.py:38: UserWarning: `meta` is not specified, inferred from partial data. Please provide `meta` if the result is unexpected.\n",
      "  Before: .apply(func)\n",
      "  After:  .apply(func, meta={'x': 'f8', 'y': 'f8'}) for dataframe result\n",
      "  or:     .apply(func, meta=('x', 'f8'))            for series result\n",
      "  test_sequences = test_data.groupby('utrip_id')['city_country'].apply(list).compute().tolist()\n"
     ]
    },
    {
     "name": "stdout",
     "output_type": "stream",
     "text": [
      "[########################################] | 100% Completed | 736.71 ms\n"
     ]
    }
   ],
   "source": [
    "# Load the datasets using Dask\n",
    "train_data = dd.read_csv('train_set.csv')\n",
    "test_data = dd.read_csv('test_set.csv')\n",
    "\n",
    "# Sample a subset of the data (optional, adjust frac as needed)\n",
    "fraction_of_data_to_use = 0.01  # Adjust this value to suit your needs\n",
    "train_data = train_data.sample(frac=fraction_of_data_to_use)\n",
    "test_data = test_data.sample(frac=fraction_of_data_to_use)\n",
    "\n",
    "# Ensure 'checkin' is in string format\n",
    "train_data['checkin'] = train_data['checkin'].astype(str)\n",
    "test_data['checkin'] = test_data['checkin'].astype(str)\n",
    "\n",
    "# Create a new column that combines 'utrip_id' and 'checkin'\n",
    "train_data['utrip_id_checkin'] = train_data['utrip_id'].astype(str) + '_' + train_data['checkin']\n",
    "test_data['utrip_id_checkin'] = test_data['utrip_id'].astype(str) + '_' + test_data['checkin']\n",
    "\n",
    "# Set the new column as index (if necessary for your logic)\n",
    "# Note: This may not be necessary for the overall logic.\n",
    "# train_data = train_data.set_index('utrip_id_checkin')\n",
    "# test_data = test_data.set_index('utrip_id_checkin')\n",
    "\n",
    "# Create a city_country column\n",
    "train_data['city_country'] = train_data['city_id'].astype(str) + '_' + train_data['hotel_country'].astype(str)\n",
    "test_data['city_country'] = test_data['city_id'].astype(str) + '_' + test_data['hotel_country'].astype(str)\n",
    "\n",
    "# Handle missing values\n",
    "train_data['city_country'] = train_data['city_country'].fillna('missing')\n",
    "test_data['city_country'] = test_data['city_country'].fillna('missing')\n",
    "\n",
    "# Convert city_country to category type for efficient encoding\n",
    "train_data = train_data.categorize(columns=['city_country'])\n",
    "test_data = test_data.categorize(columns=['city_country'])\n",
    "\n",
    "# Group by utrip_id to create sequences\n",
    "with ProgressBar():\n",
    "    train_sequences = train_data.groupby('utrip_id')['city_country'].apply(list).compute().tolist()\n",
    "    test_sequences = test_data.groupby('utrip_id')['city_country'].apply(list).compute().tolist()\n",
    "\n",
    "# Encode city_country strings as integers\n",
    "all_sequences = train_sequences + test_sequences\n",
    "all_cities_countries = [city_country for seq in all_sequences for city_country in seq]\n",
    "encoder = LabelEncoder()\n",
    "encoder.fit(all_cities_countries)\n",
    "\n",
    "encoded_train_sequences = [encoder.transform(seq).tolist() for seq in train_sequences]\n",
    "encoded_test_sequences = [encoder.transform(seq).tolist() for seq in test_sequences]\n",
    "\n",
    "# Prepare data for training models\n",
    "def prepare_data(sequences, sequence_length=None):\n",
    "    if sequence_length is None:\n",
    "        sequence_length = max(len(seq) for seq in sequences)\n",
    "    X, y = [], []\n",
    "    for seq in tqdm(sequences, desc=\"Preparing data\"):\n",
    "        for i in range(1, len(seq)):\n",
    "            X.append(seq[:i])\n",
    "            y.append(seq[i])\n",
    "    X = pad_sequences(X, maxlen=sequence_length, padding='pre')\n",
    "    y = np.array(y)\n",
    "    return X, y\n",
    "\n",
    "X_train, y_train = prepare_data(encoded_train_sequences)\n",
    "X_test, y_test = prepare_data(encoded_test_sequences, sequence_length=X_train.shape[1])\n",
    "\n",
    "# Print shapes to verify the data preparation\n",
    "print(f\"X_train shape: {X_train.shape}\")\n",
    "print(f\"y_train shape: {y_train.shape}\")\n",
    "print(f\"X_test shape: {X_test.shape}\")\n",
    "print(f\"y_test shape: {y_test.shape}\")"
   ]
  },
  {
   "cell_type": "code",
   "execution_count": null,
   "id": "57608e64",
   "metadata": {},
   "outputs": [
    {
     "name": "stdout",
     "output_type": "stream",
     "text": [
      "First 5 rows of X_train:\n",
      "[[   0    0    0    0    0    0    0    0    0  581]\n",
      " [   0    0    0    0    0    0    0    0    0 3858]\n",
      " [   0    0    0    0    0    0    0    0    0 3045]\n",
      " [   0    0    0    0    0    0    0    0    0  470]\n",
      " [   0    0    0    0    0    0    0    0    0 1896]]\n",
      "\n",
      "First 5 elements of y_train:\n",
      "[1156  447 3914 1463 3316]\n",
      "\n",
      "First 5 rows of X_train (as DataFrame):\n",
      "   0  1  2  3  4  5  6  7  8     9\n",
      "0  0  0  0  0  0  0  0  0  0   581\n",
      "1  0  0  0  0  0  0  0  0  0  3858\n",
      "2  0  0  0  0  0  0  0  0  0  3045\n",
      "3  0  0  0  0  0  0  0  0  0   470\n",
      "4  0  0  0  0  0  0  0  0  0  1896\n",
      "\n",
      "First 5 elements of y_train (as DataFrame):\n",
      "0    1156\n",
      "1     447\n",
      "2    3914\n",
      "3    1463\n",
      "4    3316\n",
      "Name: Target, dtype: int64\n",
      "\n",
      "First 5 rows of X_test (as DataFrame):\n",
      "   0  1  2  3  4  5  6  7  8     9\n",
      "0  0  0  0  0  0  0  0  0  0  1436\n",
      "1  0  0  0  0  0  0  0  0  0     0\n",
      "2  0  0  0  0  0  0  0  0  0     0\n",
      "3  0  0  0  0  0  0  0  0  0  3442\n",
      "4  0  0  0  0  0  0  0  0  0  4531\n",
      "\n",
      "First 5 elements of y_test (as DataFrame):\n",
      "0       0\n",
      "1    3811\n",
      "2    1847\n",
      "3       0\n",
      "4    3722\n",
      "Name: Target, dtype: int64\n"
     ]
    }
   ],
   "source": [
    "# Print the first 5 rows of X_train and y_train\n",
    "print(\"First 5 rows of X_train:\")\n",
    "print(X_train[:5])\n",
    "\n",
    "print(\"\\nFirst 5 elements of y_train:\")\n",
    "print(y_train[:5])\n",
    "\n",
    "# Convert to Dask DataFrame for better readability\n",
    "X_train_dd = dd.from_pandas(pd.DataFrame(X_train), npartitions=5)\n",
    "y_train_dd = dd.from_pandas(pd.Series(y_train, name='Target'), npartitions=5)\n",
    "\n",
    "X_test_dd = dd.from_pandas(pd.DataFrame(X_test), npartitions=5)\n",
    "y_test_dd = dd.from_pandas(pd.Series(y_test, name='Target'), npartitions=5)\n",
    "\n",
    "# Display the first 5 rows\n",
    "print(\"\\nFirst 5 rows of X_train (as DataFrame):\")\n",
    "print(X_train_dd.head())\n",
    "\n",
    "print(\"\\nFirst 5 elements of y_train (as DataFrame):\")\n",
    "print(y_train_dd.head())\n",
    "\n",
    "print(\"\\nFirst 5 rows of X_test (as DataFrame):\")\n",
    "print(X_test_dd.head())\n",
    "\n",
    "print(\"\\nFirst 5 elements of y_test (as DataFrame):\")\n",
    "print(y_test_dd.head())"
   ]
  },
  {
   "cell_type": "code",
   "execution_count": null,
   "id": "5b03823d",
   "metadata": {},
   "outputs": [
    {
     "name": "stdout",
     "output_type": "stream",
     "text": [
      "Unique city_country values: 4718\n"
     ]
    }
   ],
   "source": [
    "unique_city_country = set(city_country for seq in all_sequences for city_country in seq)\n",
    "print(\"Unique city_country values:\", len(unique_city_country))"
   ]
  },
  {
   "cell_type": "markdown",
   "id": "78dd1082",
   "metadata": {},
   "source": [
    "### Collaborative Filtering (Item-Based)"
   ]
  },
  {
   "cell_type": "code",
   "execution_count": null,
   "id": "00dddb85",
   "metadata": {},
   "outputs": [
    {
     "name": "stdout",
     "output_type": "stream",
     "text": [
      "Collaborative Filtering Complete\n",
      "First 5 collaborative filtering predictions:\n",
      "['30835_Glubbdubdrib', '30835_Glubbdubdrib', '30835_Glubbdubdrib', '30835_Glubbdubdrib', '30835_Glubbdubdrib']\n"
     ]
    }
   ],
   "source": [
    "# Collaborative Filtering (Item-Based)\n",
    "# Create a co-occurrence matrix\n",
    "item_cooccurrence_matrix = np.zeros((len(encoder.classes_), len(encoder.classes_)))\n",
    "\n",
    "for seq in encoded_train_sequences:\n",
    "    for i in range(len(seq)):\n",
    "        for j in range(i + 1, len(seq)):\n",
    "            item_cooccurrence_matrix[seq[i], seq[j]] += 1\n",
    "            item_cooccurrence_matrix[seq[j], seq[i]] += 1\n",
    "\n",
    "# Use TruncatedSVD for dimensionality reduction\n",
    "embedding_dim = 50\n",
    "svd = TruncatedSVD(n_components=embedding_dim)\n",
    "item_embeddings = svd.fit_transform(item_cooccurrence_matrix)\n",
    "\n",
    "# Calculate cosine similarity matrix for embeddings\n",
    "item_sim_matrix = cosine_similarity(item_embeddings)\n",
    "\n",
    "def collaborative_filtering_predict(current_place):\n",
    "    if current_place in encoder.classes_:\n",
    "        current_idx = encoder.transform([current_place])[0]\n",
    "        similarity_scores = item_sim_matrix[current_idx]\n",
    "        most_similar_idx = similarity_scores.argsort()[-2]\n",
    "        return encoder.inverse_transform([most_similar_idx])[0]\n",
    "    else:\n",
    "        return None\n",
    "\n",
    "collab_preds = [collaborative_filtering_predict(encoder.inverse_transform([seq[-1]])[0]) for seq in encoded_test_sequences]\n",
    "\n",
    "print(\"Collaborative Filtering Complete\")\n",
    "# Print the first 5 collaborative filtering predictions\n",
    "\n",
    "print(\"First 5 collaborative filtering predictions:\")\n",
    "print(collab_preds[:5])"
   ]
  },
  {
   "cell_type": "markdown",
   "id": "ee2d20d0",
   "metadata": {},
   "source": [
    "### Markov Chains"
   ]
  },
  {
   "cell_type": "code",
   "execution_count": null,
   "id": "f3c7026a",
   "metadata": {},
   "outputs": [
    {
     "name": "stdout",
     "output_type": "stream",
     "text": [
      "Markov Complete\n",
      "First 5 Markov chain predictions:\n",
      "['unknown', 'unknown', 'unknown', 'unknown', 'unknown']\n"
     ]
    }
   ],
   "source": [
    "# Markov Chains\n",
    "# Create transition pairs from the city_country chains\n",
    "transitions = []\n",
    "\n",
    "for chain in encoded_train_sequences:\n",
    "    for i in range(len(chain) - 1):\n",
    "        transitions.append((chain[i], chain[i + 1]))\n",
    "\n",
    "# Create a DataFrame for transitions\n",
    "transitions_df = pd.DataFrame(transitions, columns=['current_place', 'next_place'])\n",
    "\n",
    "# Calculate transition probabilities\n",
    "transition_counts = transitions_df.groupby('current_place')['next_place'].value_counts(normalize=True).unstack(fill_value=0)\n",
    "\n",
    "# Function to predict the next place based on the current place\n",
    "def markov_chain_predict(current_place):\n",
    "    if current_place in transition_counts.index:\n",
    "        return transition_counts.loc[current_place].idxmax()\n",
    "    else:\n",
    "        return None\n",
    "\n",
    "# Generate predictions using the Markov chain model\n",
    "markov_preds = [markov_chain_predict(seq[-1]) for seq in encoded_test_sequences]\n",
    "\n",
    "# Convert predictions back to original city_country labels\n",
    "markov_preds = [encoder.inverse_transform([pred])[0] if pred is not None else 'unknown' for pred in markov_preds]\n",
    "\n",
    "print(\"Markov Complete\")\n",
    "\n",
    "# Print the first 5 Markov chain predictions\n",
    "print(\"First 5 Markov chain predictions:\")\n",
    "print(markov_preds[:5])"
   ]
  },
  {
   "cell_type": "code",
   "execution_count": null,
   "id": "0c9f1056",
   "metadata": {},
   "outputs": [],
   "source": [
    "# Function to evaluate models\n",
    "def evaluate_model(y_true, y_pred):\n",
    "    # Ensure y_pred contains only labels present in encoder.classes_\n",
    "    y_pred_mapped = []\n",
    "    for label in y_pred:\n",
    "        if label in encoder.classes_:\n",
    "            y_pred_mapped.append(label)\n",
    "        else:\n",
    "            # Handle previously unseen labels, e.g., by mapping to a default label\n",
    "            y_pred_mapped.append('unknown')  # Replace with appropriate handling\n",
    "\n",
    "    # Filter y_true to only include labels that are in encoder.classes_\n",
    "    y_true_filtered = [label for label in y_true if label in encoder.classes_]\n",
    "\n",
    "    # Transform y_true and y_pred_mapped\n",
    "    y_true_encoded = encoder.transform(y_true_filtered)\n",
    "    y_pred_encoded = encoder.transform(y_pred_mapped)\n",
    "\n",
    "    accuracy = accuracy_score(y_true_encoded, y_pred_encoded)\n",
    "    precision = precision_score(y_true_encoded, y_pred_encoded, average='weighted', zero_division=1)\n",
    "    return accuracy, precision\n",
    "\n",
    "# Random Forest Model\n",
    "@delayed\n",
    "def train_rf(X_train, y_train, X_test):\n",
    "    rf_model = RandomForestClassifier(n_estimators=100, random_state=42)\n",
    "    rf_model.fit(X_train, y_train)\n",
    "    rf_preds = rf_model.predict(X_test)\n",
    "    rf_preds = encoder.inverse_transform(rf_preds)\n",
    "    return rf_preds\n",
    "\n",
    "# Gradient Boosting Model\n",
    "@delayed\n",
    "def train_gbm(X_train, y_train, X_test):\n",
    "    gbm_model = GradientBoostingClassifier(n_estimators=100, random_state=42)\n",
    "    gbm_model.fit(X_train, y_train)\n",
    "    gbm_preds = gbm_model.predict(X_test)\n",
    "    gbm_preds = encoder.inverse_transform(gbm_preds)\n",
    "    return gbm_preds\n",
    "\n",
    "# LSTM Model\n",
    "def train_lstm(X_train, y_train, X_test):\n",
    "    lstm_model = Sequential()\n",
    "    lstm_model.add(Embedding(input_dim=len(encoder.classes_), output_dim=50, input_length=X_train.shape[1]))\n",
    "    lstm_model.add(LSTM(100, return_sequences=False))\n",
    "    lstm_model.add(Dense(len(encoder.classes_), activation='softmax'))\n",
    "    lstm_model.compile(optimizer='adam', loss='sparse_categorical_crossentropy', metrics=['accuracy'])\n",
    "    lstm_model.fit(X_train, y_train, epochs=10, batch_size=64, validation_split=0.2)\n",
    "    \n",
    "    # Predict probabilities using softmax output\n",
    "    lstm_preds = lstm_model.predict(X_test)\n",
    "    \n",
    "    # Use np.argmax to get the index of the class with the highest probability\n",
    "    lstm_preds_idx = np.argmax(lstm_preds, axis=1)\n",
    "    \n",
    "    # Convert the predicted indices back to original labels\n",
    "    lstm_preds_labels = encoder.inverse_transform(lstm_preds_idx)\n",
    "    \n",
    "    return lstm_preds_labels"
   ]
  },
  {
   "cell_type": "code",
   "execution_count": null,
   "id": "3b1ad8c0",
   "metadata": {},
   "outputs": [
    {
     "name": "stderr",
     "output_type": "stream",
     "text": [
      "2024-05-23 01:47:43.923196: I external/local_xla/xla/stream_executor/cuda/cuda_executor.cc:998] successful NUMA node read from SysFS had negative value (-1), but there must be at least one NUMA node, so returning NUMA node zero. See more at https://github.com/torvalds/linux/blob/v6.0/Documentation/ABI/testing/sysfs-bus-pci#L344-L355\n",
      "2024-05-23 01:47:44.110172: W tensorflow/core/common_runtime/gpu/gpu_device.cc:2251] Cannot dlopen some GPU libraries. Please make sure the missing libraries mentioned above are installed properly if you would like to use GPU. Follow the guide at https://www.tensorflow.org/install/gpu for how to download and setup the required libraries for your platform.\n",
      "Skipping registering GPU devices...\n"
     ]
    }
   ],
   "source": [
    "# Train and predict using Dask delayed functions\n",
    "rf_preds, gbm_preds, lstm_preds = compute(train_rf(X_train, y_train, X_test), train_gbm(X_train, y_train, X_test), train_lstm(X_train, y_train, X_test))"
   ]
  },
  {
   "cell_type": "code",
   "execution_count": null,
   "id": "4af04408",
   "metadata": {},
   "outputs": [
    {
     "ename": "ValueError",
     "evalue": "y contains previously unseen labels: 'unknown'",
     "output_type": "error",
     "traceback": [
      "\u001b[0;31m---------------------------------------------------------------------------\u001b[0m",
      "\u001b[0;31mKeyError\u001b[0m                                  Traceback (most recent call last)",
      "File \u001b[0;32m~/Documents/projects/RecSys-local/.venv/lib/python3.10/site-packages/sklearn/utils/_encode.py:225\u001b[0m, in \u001b[0;36m_encode\u001b[0;34m(values, uniques, check_unknown)\u001b[0m\n\u001b[1;32m    224\u001b[0m \u001b[38;5;28;01mtry\u001b[39;00m:\n\u001b[0;32m--> 225\u001b[0m     \u001b[38;5;28;01mreturn\u001b[39;00m \u001b[43m_map_to_integer\u001b[49m\u001b[43m(\u001b[49m\u001b[43mvalues\u001b[49m\u001b[43m,\u001b[49m\u001b[43m \u001b[49m\u001b[43muniques\u001b[49m\u001b[43m)\u001b[49m\n\u001b[1;32m    226\u001b[0m \u001b[38;5;28;01mexcept\u001b[39;00m \u001b[38;5;167;01mKeyError\u001b[39;00m \u001b[38;5;28;01mas\u001b[39;00m e:\n",
      "File \u001b[0;32m~/Documents/projects/RecSys-local/.venv/lib/python3.10/site-packages/sklearn/utils/_encode.py:165\u001b[0m, in \u001b[0;36m_map_to_integer\u001b[0;34m(values, uniques)\u001b[0m\n\u001b[1;32m    164\u001b[0m table \u001b[38;5;241m=\u001b[39m _nandict({val: i \u001b[38;5;28;01mfor\u001b[39;00m i, val \u001b[38;5;129;01min\u001b[39;00m \u001b[38;5;28menumerate\u001b[39m(uniques)})\n\u001b[0;32m--> 165\u001b[0m \u001b[38;5;28;01mreturn\u001b[39;00m np\u001b[38;5;241m.\u001b[39marray([table[v] \u001b[38;5;28;01mfor\u001b[39;00m v \u001b[38;5;129;01min\u001b[39;00m values])\n",
      "File \u001b[0;32m~/Documents/projects/RecSys-local/.venv/lib/python3.10/site-packages/sklearn/utils/_encode.py:165\u001b[0m, in \u001b[0;36m<listcomp>\u001b[0;34m(.0)\u001b[0m\n\u001b[1;32m    164\u001b[0m table \u001b[38;5;241m=\u001b[39m _nandict({val: i \u001b[38;5;28;01mfor\u001b[39;00m i, val \u001b[38;5;129;01min\u001b[39;00m \u001b[38;5;28menumerate\u001b[39m(uniques)})\n\u001b[0;32m--> 165\u001b[0m \u001b[38;5;28;01mreturn\u001b[39;00m np\u001b[38;5;241m.\u001b[39marray([\u001b[43mtable\u001b[49m\u001b[43m[\u001b[49m\u001b[43mv\u001b[49m\u001b[43m]\u001b[49m \u001b[38;5;28;01mfor\u001b[39;00m v \u001b[38;5;129;01min\u001b[39;00m values])\n",
      "File \u001b[0;32m~/Documents/projects/RecSys-local/.venv/lib/python3.10/site-packages/sklearn/utils/_encode.py:159\u001b[0m, in \u001b[0;36m_nandict.__missing__\u001b[0;34m(self, key)\u001b[0m\n\u001b[1;32m    158\u001b[0m     \u001b[38;5;28;01mreturn\u001b[39;00m \u001b[38;5;28mself\u001b[39m\u001b[38;5;241m.\u001b[39mnan_value\n\u001b[0;32m--> 159\u001b[0m \u001b[38;5;28;01mraise\u001b[39;00m \u001b[38;5;167;01mKeyError\u001b[39;00m(key)\n",
      "\u001b[0;31mKeyError\u001b[0m: 'unknown'",
      "\nDuring handling of the above exception, another exception occurred:\n",
      "\u001b[0;31mValueError\u001b[0m                                Traceback (most recent call last)",
      "Cell \u001b[0;32mIn[23], line 3\u001b[0m\n\u001b[1;32m      1\u001b[0m \u001b[38;5;66;03m# Evaluate all models\u001b[39;00m\n\u001b[1;32m      2\u001b[0m \u001b[38;5;66;03m# collab_accuracy, collab_precision = evaluate_model(encoder.inverse_transform(y_test), collab_preds)\u001b[39;00m\n\u001b[0;32m----> 3\u001b[0m markov_accuracy, markov_precision \u001b[38;5;241m=\u001b[39m \u001b[43mevaluate_model\u001b[49m\u001b[43m(\u001b[49m\u001b[43mencoder\u001b[49m\u001b[38;5;241;43m.\u001b[39;49m\u001b[43minverse_transform\u001b[49m\u001b[43m(\u001b[49m\u001b[43my_test\u001b[49m\u001b[43m)\u001b[49m\u001b[43m,\u001b[49m\u001b[43m \u001b[49m\u001b[43mmarkov_preds\u001b[49m\u001b[43m)\u001b[49m\n\u001b[1;32m      4\u001b[0m \u001b[38;5;66;03m# rf_accuracy, rf_precision = evaluate_model(encoder.inverse_transform(y_test), rf_preds)\u001b[39;00m\n\u001b[1;32m      5\u001b[0m gbm_accuracy, gbm_precision \u001b[38;5;241m=\u001b[39m evaluate_model(encoder\u001b[38;5;241m.\u001b[39minverse_transform(y_test), gbm_preds)\n",
      "Cell \u001b[0;32mIn[20], line 4\u001b[0m, in \u001b[0;36mevaluate_model\u001b[0;34m(y_true, y_pred)\u001b[0m\n\u001b[1;32m      2\u001b[0m \u001b[38;5;28;01mdef\u001b[39;00m \u001b[38;5;21mevaluate_model\u001b[39m(y_true, y_pred):\n\u001b[1;32m      3\u001b[0m     y_true_encoded \u001b[38;5;241m=\u001b[39m encoder\u001b[38;5;241m.\u001b[39mtransform(y_true)\n\u001b[0;32m----> 4\u001b[0m     y_pred_encoded \u001b[38;5;241m=\u001b[39m \u001b[43mencoder\u001b[49m\u001b[38;5;241;43m.\u001b[39;49m\u001b[43mtransform\u001b[49m\u001b[43m(\u001b[49m\u001b[43my_pred\u001b[49m\u001b[43m)\u001b[49m\n\u001b[1;32m      5\u001b[0m     accuracy \u001b[38;5;241m=\u001b[39m accuracy_score(y_true_encoded, y_pred_encoded)\n\u001b[1;32m      6\u001b[0m     precision \u001b[38;5;241m=\u001b[39m precision_score(y_true_encoded, y_pred_encoded, average\u001b[38;5;241m=\u001b[39m\u001b[38;5;124m'\u001b[39m\u001b[38;5;124mweighted\u001b[39m\u001b[38;5;124m'\u001b[39m, zero_division\u001b[38;5;241m=\u001b[39m\u001b[38;5;241m1\u001b[39m)\n",
      "File \u001b[0;32m~/Documents/projects/RecSys-local/.venv/lib/python3.10/site-packages/sklearn/preprocessing/_label.py:137\u001b[0m, in \u001b[0;36mLabelEncoder.transform\u001b[0;34m(self, y)\u001b[0m\n\u001b[1;32m    134\u001b[0m \u001b[38;5;28;01mif\u001b[39;00m _num_samples(y) \u001b[38;5;241m==\u001b[39m \u001b[38;5;241m0\u001b[39m:\n\u001b[1;32m    135\u001b[0m     \u001b[38;5;28;01mreturn\u001b[39;00m np\u001b[38;5;241m.\u001b[39marray([])\n\u001b[0;32m--> 137\u001b[0m \u001b[38;5;28;01mreturn\u001b[39;00m \u001b[43m_encode\u001b[49m\u001b[43m(\u001b[49m\u001b[43my\u001b[49m\u001b[43m,\u001b[49m\u001b[43m \u001b[49m\u001b[43muniques\u001b[49m\u001b[38;5;241;43m=\u001b[39;49m\u001b[38;5;28;43mself\u001b[39;49m\u001b[38;5;241;43m.\u001b[39;49m\u001b[43mclasses_\u001b[49m\u001b[43m)\u001b[49m\n",
      "File \u001b[0;32m~/Documents/projects/RecSys-local/.venv/lib/python3.10/site-packages/sklearn/utils/_encode.py:227\u001b[0m, in \u001b[0;36m_encode\u001b[0;34m(values, uniques, check_unknown)\u001b[0m\n\u001b[1;32m    225\u001b[0m         \u001b[38;5;28;01mreturn\u001b[39;00m _map_to_integer(values, uniques)\n\u001b[1;32m    226\u001b[0m     \u001b[38;5;28;01mexcept\u001b[39;00m \u001b[38;5;167;01mKeyError\u001b[39;00m \u001b[38;5;28;01mas\u001b[39;00m e:\n\u001b[0;32m--> 227\u001b[0m         \u001b[38;5;28;01mraise\u001b[39;00m \u001b[38;5;167;01mValueError\u001b[39;00m(\u001b[38;5;124mf\u001b[39m\u001b[38;5;124m\"\u001b[39m\u001b[38;5;124my contains previously unseen labels: \u001b[39m\u001b[38;5;132;01m{\u001b[39;00m\u001b[38;5;28mstr\u001b[39m(e)\u001b[38;5;132;01m}\u001b[39;00m\u001b[38;5;124m\"\u001b[39m)\n\u001b[1;32m    228\u001b[0m \u001b[38;5;28;01melse\u001b[39;00m:\n\u001b[1;32m    229\u001b[0m     \u001b[38;5;28;01mif\u001b[39;00m check_unknown:\n",
      "\u001b[0;31mValueError\u001b[0m: y contains previously unseen labels: 'unknown'"
     ]
    }
   ],
   "source": [
    "# Evaluate all models\n",
    "collab_accuracy, collab_precision = evaluate_model(encoder.inverse_transform(y_test), collab_preds)\n",
    "markov_accuracy, markov_precision = evaluate_model(encoder.inverse_transform(y_test), markov_preds)\n",
    "rf_accuracy, rf_precision = evaluate_model(encoder.inverse_transform(y_test), rf_preds)\n",
    "gbm_accuracy, gbm_precision = evaluate_model(encoder.inverse_transform(y_test), gbm_preds)\n",
    "lstm_accuracy, lstm_precision = evaluate_model(encoder.inverse_transform(y_test), lstm_preds)\n",
    "\n",
    "# Print the results\n",
    "print(f\"Collaborative Filtering - Accuracy: {collab_accuracy:.2f}, Precision: {collab_precision:.2f}\")\n",
    "print(f\"Markov Chains - Accuracy: {markov_accuracy:.2f}, Precision: {markov_precision:.2f}\")\n",
    "print(f\"Random Forest - Accuracy: {rf_accuracy:.2f}, Precision: {rf_precision:.2f}\")\n",
    "print(f\"Gradient Boosting - Accuracy: {gbm_accuracy:.2f}, Precision: {gbm_precision:.2f}\")\n",
    "print(f\"LSTM - Accuracy: {lstm_accuracy:.2f}, Precision: {lstm_precision:.2f}\")"
   ]
  },
  {
   "cell_type": "code",
   "execution_count": null,
   "id": "47f7cd24",
   "metadata": {},
   "outputs": [],
   "source": [
    "# Function to save predictions to CSV\n",
    "def save_predictions(predictions, filename, current_city):\n",
    "    preds_df = pd.DataFrame(predictions, columns=['predicted_next_city_country'])\n",
    "    preds_df['current_city_country'] = current_city\n",
    "    preds_df.to_csv(filename, index=False)\n",
    "    print(f'Predictions written to {filename}')\n",
    "\n",
    "# Prepare current city data for reference\n",
    "current_city = [encoder.inverse_transform([seq[-1]])[0] for seq in encoded_test_sequences]\n",
    "\n",
    "# Save the predictions for each model\n",
    "model_predictions = {\n",
    "    'collab_predictions.csv': collab_preds,\n",
    "    'markov_predictions.csv': markov_preds,\n",
    "    'rf_predictions.csv': rf_preds,\n",
    "    'gbm_predictions.csv': gbm_preds,\n",
    "    'lstm_predictions.csv': lstm_preds\n",
    "}\n",
    "\n",
    "for filename, preds in model_predictions.items():\n",
    "    save_predictions(preds, filename, current_city, encoded_test_sequences)"
   ]
  }
 ],
 "metadata": {
  "kernelspec": {
   "display_name": "Python 3 (ipykernel)",
   "language": "python",
   "name": "python3"
  },
  "language_info": {
   "codemirror_mode": {
    "name": "ipython",
    "version": 3
   },
   "file_extension": ".py",
   "mimetype": "text/x-python",
   "name": "python",
   "nbconvert_exporter": "python",
   "pygments_lexer": "ipython3",
   "version": "3.10.12"
  }
 },
 "nbformat": 4,
 "nbformat_minor": 5
}
