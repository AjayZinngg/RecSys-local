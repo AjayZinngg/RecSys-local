{
 "cells": [
  {
   "cell_type": "code",
   "execution_count": 1,
   "metadata": {},
   "outputs": [],
   "source": [
    "import pandas as pd\n",
    "import matplotlib.pyplot as plt\n",
    "import seaborn as sns\n",
    "import numpy as np"
   ]
  },
  {
   "cell_type": "code",
   "execution_count": 2,
   "metadata": {},
   "outputs": [],
   "source": [
    "df = pd.read_csv('train_set.csv')"
   ]
  },
  {
   "cell_type": "code",
   "execution_count": 3,
   "metadata": {},
   "outputs": [],
   "source": [
    "# Convert 'checkin' to datetime format\n",
    "df['checkin'] = pd.to_datetime(df['checkin'])\n",
    "\n",
    "# Extract month, season, and day of the week\n",
    "df['month'] = df['checkin'].dt.month\n",
    "df['season'] = df['checkin'].dt.month % 12 // 3 + 1  # 1: Winter, 2: Spring, 3: Summer, 4: Fall\n",
    "df['day_of_week'] = df['checkin'].dt.dayofweek\n"
   ]
  },
  {
   "cell_type": "code",
   "execution_count": null,
   "metadata": {},
   "outputs": [],
   "source": [
    "# Visualize monthly check-in patterns\n",
    "plt.figure(figsize=(12, 6))\n",
    "sns.countplot(df['month'])\n",
    "plt.title('Check-in Patterns by Month')\n",
    "plt.xlabel('Month')\n",
    "plt.ylabel('Number of Check-ins')\n",
    "plt.show()\n",
    "\n",
    "# Visualize seasonal check-in patterns\n",
    "plt.figure(figsize=(12, 6))\n",
    "sns.countplot(df['season'])\n",
    "plt.title('Check-in Patterns by Season')\n",
    "plt.xlabel('Season')\n",
    "plt.ylabel('Number of Check-ins')\n",
    "plt.xticks(ticks=[0, 1, 2, 3], labels=['Winter', 'Spring', 'Summer', 'Fall'])\n",
    "plt.show()"
   ]
  },
  {
   "cell_type": "code",
   "execution_count": null,
   "metadata": {},
   "outputs": [],
   "source": [
    "# Visualize check-in patterns by day of the week\n",
    "plt.figure(figsize=(12, 6))\n",
    "sns.countplot(df['day_of_week'])\n",
    "plt.title('Check-in Patterns by Day of the Week')\n",
    "plt.xlabel('Day of the Week')\n",
    "plt.ylabel('Number of Check-ins')\n",
    "plt.xticks(ticks=[0, 1, 2, 3, 4, 5, 6], labels=['Mon', 'Tue', 'Wed', 'Thu', 'Fri', 'Sat', 'Sun'])\n",
    "plt.show()\n",
    "\n",
    "# Top cities\n",
    "top_cities = df['city_id'].value_counts().head(10)\n",
    "\n",
    "plt.figure(figsize=(14, 7))\n",
    "sns.barplot(x=top_cities.index, y=top_cities.values)\n",
    "plt.title('Top 10 Cities')\n",
    "plt.xlabel('City ID')\n",
    "plt.ylabel('Number of Check-ins')\n",
    "plt.xticks(rotation=45)\n",
    "plt.show()\n"
   ]
  },
  {
   "cell_type": "code",
   "execution_count": null,
   "metadata": {},
   "outputs": [],
   "source": [
    "# Device class distribution\n",
    "plt.figure(figsize=(12, 6))\n",
    "sns.countplot(df['device_class'])\n",
    "plt.title('Distribution of Device Class')\n",
    "plt.xlabel('Device Class')\n",
    "plt.ylabel('Count')\n",
    "plt.show()\n",
    "\n",
    "# Affiliate ID distribution\n",
    "top_affiliates = df['affiliate_id'].value_counts().head(10)\n",
    "\n",
    "plt.figure(figsize=(14, 7))\n",
    "sns.barplot(x=top_affiliates.index, y=top_affiliates.values)\n",
    "plt.title('Top 10 Affiliate IDs')\n",
    "plt.xlabel('Affiliate ID')\n",
    "plt.ylabel('Number of Check-ins')\n",
    "plt.xticks(rotation=45)\n",
    "plt.show()"
   ]
  }
 ],
 "metadata": {
  "kernelspec": {
   "display_name": ".venv",
   "language": "python",
   "name": "python3"
  },
  "language_info": {
   "codemirror_mode": {
    "name": "ipython",
    "version": 3
   },
   "file_extension": ".py",
   "mimetype": "text/x-python",
   "name": "python",
   "nbconvert_exporter": "python",
   "pygments_lexer": "ipython3",
   "version": "3.10.12"
  }
 },
 "nbformat": 4,
 "nbformat_minor": 2
}
