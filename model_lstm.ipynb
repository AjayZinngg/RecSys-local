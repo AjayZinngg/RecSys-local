{
 "cells": [
  {
   "cell_type": "code",
   "execution_count": 1,
   "metadata": {},
   "outputs": [
    {
     "name": "stderr",
     "output_type": "stream",
     "text": [
      "2024-05-31 01:40:14.385604: I tensorflow/core/platform/cpu_feature_guard.cc:210] This TensorFlow binary is optimized to use available CPU instructions in performance-critical operations.\n",
      "To enable the following instructions: AVX2 FMA, in other operations, rebuild TensorFlow with the appropriate compiler flags.\n",
      "2024-05-31 01:40:15.801120: W tensorflow/compiler/tf2tensorrt/utils/py_utils.cc:38] TF-TRT Warning: Could not find TensorRT\n"
     ]
    }
   ],
   "source": [
    "import pandas as pd\n",
    "import numpy as np\n",
    "from sklearn.preprocessing import LabelEncoder\n",
    "from tensorflow.keras.models import Sequential\n",
    "from tensorflow.keras.layers import LSTM, Dense, Embedding, Dropout, Bidirectional\n",
    "from tensorflow.keras.preprocessing.sequence import pad_sequences\n",
    "from tensorflow.keras.utils import to_categorical\n",
    "from sklearn.model_selection import train_test_split, KFold"
   ]
  },
  {
   "cell_type": "code",
   "execution_count": 2,
   "metadata": {},
   "outputs": [],
   "source": [
    "# Load the datasets\n",
    "train_set = pd.read_csv('train_set.csv')\n",
    "test_set = pd.read_csv('test_set.csv')"
   ]
  },
  {
   "cell_type": "code",
   "execution_count": 3,
   "metadata": {},
   "outputs": [],
   "source": [
    "# Preprocessing steps\n",
    "# Convert dates to datetime objects\n",
    "train_set['checkin'] = pd.to_datetime(train_set['checkin'])\n",
    "train_set['checkout'] = pd.to_datetime(train_set['checkout'])\n",
    "test_set['checkin'] = pd.to_datetime(test_set['checkin'])\n",
    "test_set['checkout'] = pd.to_datetime(test_set['checkout'])"
   ]
  },
  {
   "cell_type": "code",
   "execution_count": 4,
   "metadata": {},
   "outputs": [],
   "source": [
    "# Calculate stay duration\n",
    "train_set['stay_duration'] = (train_set['checkout'] - train_set['checkin']).dt.days\n",
    "test_set['stay_duration'] = (test_set['checkout'] - test_set['checkin']).dt.days"
   ]
  },
  {
   "cell_type": "code",
   "execution_count": 5,
   "metadata": {},
   "outputs": [],
   "source": [
    "# Fill NaN values with 'Unknown' to avoid errors during encoding\n",
    "train_set.fillna('Unknown', inplace=True)\n",
    "test_set.fillna('Unknown', inplace=True)"
   ]
  },
  {
   "cell_type": "code",
   "execution_count": 6,
   "metadata": {},
   "outputs": [],
   "source": [
    "# Encode categorical variables\n",
    "columns_to_encode = ['device_class', 'booker_country', 'hotel_country', 'affiliate_id']\n",
    "combined = pd.concat([train_set, test_set])  # Combine for consistent encoding\n",
    "for column in columns_to_encode:\n",
    "    le = LabelEncoder()\n",
    "    combined[column] = le.fit_transform(combined[column].astype(str))  # Convert all to string to avoid type issues\n",
    "\n",
    "# Split combined back into train and test sets\n",
    "train_set = combined.iloc[:len(train_set)]\n",
    "test_set = combined.iloc[len(train_set):]"
   ]
  },
  {
   "cell_type": "code",
   "execution_count": 7,
   "metadata": {},
   "outputs": [],
   "source": [
    "# Feature Engineering\n",
    "# Group by 'utrip_id' to create sequences of visits within the same trip\n",
    "trip_sequences = train_set.groupby('utrip_id').agg(list).reset_index()\n",
    "\n",
    "# Extract features and targets for modeling\n",
    "# Input (features): All cities visited in a trip except the last one\n",
    "# Target (output): The last visited city, which we want to predict\n",
    "X = trip_sequences['city_id'].apply(lambda x: x[:-1]).tolist()\n",
    "y = trip_sequences['city_id'].apply(lambda x: x[-1]).tolist()\n",
    "\n",
    "# Pad sequences to have the same length for model input\n",
    "X_padded = pad_sequences(X, padding='post')"
   ]
  },
  {
   "cell_type": "code",
   "execution_count": 8,
   "metadata": {},
   "outputs": [
    {
     "ename": "MemoryError",
     "evalue": "Unable to allocate 64.7 GiB for an array with shape (217686, 39901) and data type float64",
     "output_type": "error",
     "traceback": [
      "\u001b[0;31m---------------------------------------------------------------------------\u001b[0m",
      "\u001b[0;31mMemoryError\u001b[0m                               Traceback (most recent call last)",
      "Cell \u001b[0;32mIn[8], line 6\u001b[0m\n\u001b[1;32m      4\u001b[0m city_encoder\u001b[38;5;241m.\u001b[39mfit(unique_cities)\n\u001b[1;32m      5\u001b[0m y_encoded \u001b[38;5;241m=\u001b[39m city_encoder\u001b[38;5;241m.\u001b[39mtransform(y)\n\u001b[0;32m----> 6\u001b[0m y_one_hot \u001b[38;5;241m=\u001b[39m \u001b[43mto_categorical\u001b[49m\u001b[43m(\u001b[49m\u001b[43my_encoded\u001b[49m\u001b[43m,\u001b[49m\u001b[43m \u001b[49m\u001b[43mnum_classes\u001b[49m\u001b[38;5;241;43m=\u001b[39;49m\u001b[38;5;28;43mlen\u001b[39;49m\u001b[43m(\u001b[49m\u001b[43munique_cities\u001b[49m\u001b[43m)\u001b[49m\u001b[43m)\u001b[49m\n",
      "File \u001b[0;32m~/Documents/projects/RecSys-local/.venv/lib/python3.10/site-packages/keras/src/utils/numerical_utils.py:88\u001b[0m, in \u001b[0;36mto_categorical\u001b[0;34m(x, num_classes)\u001b[0m\n\u001b[1;32m     86\u001b[0m     num_classes \u001b[38;5;241m=\u001b[39m np\u001b[38;5;241m.\u001b[39mmax(x) \u001b[38;5;241m+\u001b[39m \u001b[38;5;241m1\u001b[39m\n\u001b[1;32m     87\u001b[0m batch_size \u001b[38;5;241m=\u001b[39m x\u001b[38;5;241m.\u001b[39mshape[\u001b[38;5;241m0\u001b[39m]\n\u001b[0;32m---> 88\u001b[0m categorical \u001b[38;5;241m=\u001b[39m \u001b[43mnp\u001b[49m\u001b[38;5;241;43m.\u001b[39;49m\u001b[43mzeros\u001b[49m\u001b[43m(\u001b[49m\u001b[43m(\u001b[49m\u001b[43mbatch_size\u001b[49m\u001b[43m,\u001b[49m\u001b[43m \u001b[49m\u001b[43mnum_classes\u001b[49m\u001b[43m)\u001b[49m\u001b[43m)\u001b[49m\n\u001b[1;32m     89\u001b[0m categorical[np\u001b[38;5;241m.\u001b[39marange(batch_size), x] \u001b[38;5;241m=\u001b[39m \u001b[38;5;241m1\u001b[39m\n\u001b[1;32m     90\u001b[0m output_shape \u001b[38;5;241m=\u001b[39m input_shape \u001b[38;5;241m+\u001b[39m (num_classes,)\n",
      "\u001b[0;31mMemoryError\u001b[0m: Unable to allocate 64.7 GiB for an array with shape (217686, 39901) and data type float64"
     ]
    }
   ],
   "source": [
    "# Encode target labels to one-hot vectors\n",
    "unique_cities = train_set['city_id'].unique()\n",
    "city_encoder = LabelEncoder()\n",
    "city_encoder.fit(unique_cities)\n",
    "y_encoded = city_encoder.transform(y)\n",
    "y_one_hot = to_categorical(y_encoded, num_classes=len(unique_cities))"
   ]
  },
  {
   "cell_type": "code",
   "execution_count": null,
   "metadata": {},
   "outputs": [],
   "source": [
    "# Model Configuration\n",
    "embedding_dim = 50  # Dimensionality of embedding layer\n",
    "lstm_units = 100    # Number of units in LSTM layers\n",
    "dropout_rate = 0.3  # Dropout rate for regularization\n",
    "\n",
    "# Define the model architecture\n",
    "model = Sequential([\n",
    "    Embedding(input_dim=len(unique_cities), output_dim=embedding_dim, input_length=X_padded.shape[1]),\n",
    "    Bidirectional(LSTM(lstm_units, return_sequences=True, dropout=dropout_rate, recurrent_dropout=dropout_rate)),\n",
    "    LSTM(lstm_units, dropout=dropout_rate, recurrent_dropout=dropout_rate),\n",
    "    Dense(128, activation='relu'),\n",
    "    Dropout(dropout_rate),\n",
    "    Dense(len(unique_cities), activation='softmax')\n",
    "])"
   ]
  },
  {
   "cell_type": "code",
   "execution_count": null,
   "metadata": {},
   "outputs": [],
   "source": [
    "# Compile the model with optimizer, loss function, and metrics\n",
    "model.compile(optimizer='adam', loss='categorical_crossentropy', metrics=['accuracy'])"
   ]
  },
  {
   "cell_type": "code",
   "execution_count": null,
   "metadata": {},
   "outputs": [],
   "source": [
    "# Cross-Validation\n",
    "# Initialize KFold for cross-validation\n",
    "kf = KFold(n_splits=5, shuffle=True, random_state=42)\n",
    "fold_no = 1\n",
    "for train_index, val_index in kf.split(X_padded):\n",
    "    X_train, X_val = X_padded[train_index], X_padded[val_index]\n",
    "    y_train, y_val = y_one_hot[train_index], y_one_hot[val_index]\n",
    "    \n",
    "    print(f'Training fold {fold_no}...')\n",
    "    model.fit(X_train, y_train, epochs=10, batch_size=64, validation_data=(X_val, y_val))\n",
    "    fold_no += 1"
   ]
  },
  {
   "cell_type": "code",
   "execution_count": null,
   "metadata": {},
   "outputs": [],
   "source": []
  },
  {
   "cell_type": "code",
   "execution_count": null,
   "metadata": {},
   "outputs": [],
   "source": []
  }
 ],
 "metadata": {
  "kernelspec": {
   "display_name": "venv",
   "language": "python",
   "name": "python3"
  },
  "language_info": {
   "codemirror_mode": {
    "name": "ipython",
    "version": 3
   },
   "file_extension": ".py",
   "mimetype": "text/x-python",
   "name": "python",
   "nbconvert_exporter": "python",
   "pygments_lexer": "ipython3",
   "version": "3.10.12"
  }
 },
 "nbformat": 4,
 "nbformat_minor": 2
}
